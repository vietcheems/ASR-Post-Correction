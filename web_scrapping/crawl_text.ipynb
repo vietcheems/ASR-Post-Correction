{
 "metadata": {
  "language_info": {
   "codemirror_mode": {
    "name": "ipython",
    "version": 3
   },
   "file_extension": ".py",
   "mimetype": "text/x-python",
   "name": "python",
   "nbconvert_exporter": "python",
   "pygments_lexer": "ipython3",
   "version": "3.7.10"
  },
  "orig_nbformat": 4,
  "kernelspec": {
   "name": "python3",
   "display_name": "Python 3.7.10 64-bit ('phungqv': conda)"
  },
  "interpreter": {
   "hash": "f251317cbd741716559e4de373cc4436450ae79b12f47fee4349c7f6a5b242a1"
  }
 },
 "nbformat": 4,
 "nbformat_minor": 2,
 "cells": [
  {
   "cell_type": "code",
   "execution_count": 4,
   "metadata": {},
   "outputs": [],
   "source": [
    "import requests\n",
    "from bs4 import BeautifulSoup"
   ]
  },
  {
   "cell_type": "code",
   "execution_count": 18,
   "metadata": {},
   "outputs": [
    {
     "output_type": "execute_result",
     "data": {
      "text/plain": [
       "[<a href=\"http://www.aut.ac.nz/\" rel=\"nofollow\" target=\"_blank\">Auckland University of Technology</a>,\n",
       " <a href=\"http://www.Auckland.ac.nz/\" rel=\"nofollow\" target=\"_blank\">The University of Auckland</a>,\n",
       " <a href=\"http://www.canterbury.ac.nz\" rel=\"nofollow\" target=\"_blank\">University of canterbury</a>,\n",
       " <a href=\"http://www.lincoln.ac.nz/\" rel=\"nofollow\" target=\"_blank\">Lincoln University</a>,\n",
       " <a href=\"http://www.massey.ac.nz/\" rel=\"nofollow\" target=\"_blank\">Massey University</a>,\n",
       " <a href=\"http://www.otago.ac.nz\" rel=\"nofollow\" target=\"_blank\">University of Otago</a>,\n",
       " <a href=\"http://www.victoria.ac.nz/\" rel=\"nofollow\" target=\"_blank\">Victoria University of Wellington</a>,\n",
       " <a href=\"http://www.waikato.ac.nz/\" rel=\"nofollow\" target=\"_blank\">The University or waikato</a>,\n",
       " <a href=\"http://www.ara.ac.nz/\" rel=\"nofollow\" target=\"_blank\">Ara Institute of Canterbury</a>,\n",
       " <a href=\"http://www.boppoly.ac.nz/\" rel=\"nofollow\" target=\"_blank\">Bay of Plenty Polytechnic</a>,\n",
       " <a href=\"http://www.cpit.ac.nz/\" rel=\"nofollow\" target=\"_blank\">Christchurch Polytechnic Institute of Technology</a>,\n",
       " <a href=\"http://www.eit.ac.nz/\" rel=\"nofollow\" target=\"_blank\">Eastern Institute of Technology</a>,\n",
       " <a href=\"http://www.laidlaw.ac.nz/\" rel=\"nofollow\" target=\"_blank\">Laidlaw College</a>,\n",
       " <a href=\"http://www.manukau.ac.nz\" rel=\"nofollow\" target=\"_blank\">Manukau Institute of Technology</a>,\n",
       " <a href=\"https://www.nmit.ac.nz/\" rel=\"nofollow\" target=\"_blank\">Nelson Marlborough Institute of Technology</a>,\n",
       " <a href=\"http://www.northtec.ac.nz/\" rel=\"nofollow\" target=\"_blank\">NorthTec</a>,\n",
       " <a href=\"http://www.openpolytechnic.ac.nz/\" rel=\"nofollow\" target=\"_blank\">The Open Polytechnic of New Zealand</a>,\n",
       " <a href=\"http://www.otagopolytechnic.ac.nz\" rel=\"nofollow\" target=\"_blank\">Otago Polytechnic</a>,\n",
       " <a href=\"https://www.sit.ac.nz/\" rel=\"nofollow\" target=\"_blank\">Southern Institute of Technology</a>,\n",
       " <a href=\"http://www.tppweb.ac.nz/\" rel=\"nofollow\" target=\"_blank\">Tai Poutini Polytechnic</a>,\n",
       " <a href=\"http://www.taranaki.ac.nz/\" rel=\"nofollow\" target=\"_blank\">Taranaki Polytechnic</a>,\n",
       " <a href=\"http://www.unitec.ac.nz/\" rel=\"nofollow\" target=\"_blank\">UNITEC Institute of Technology</a>,\n",
       " <a href=\"http://www.ucol.ac.nz/\" rel=\"nofollow\" target=\"_blank\">UCOL- Universal College of Learning</a>,\n",
       " <a href=\"http://www.waiariki.ac.nz/\" rel=\"nofollow\" target=\"_blank\">Waiariki Institute of Technology</a>,\n",
       " <a href=\"http://www.wintec.ac.nz\" rel=\"nofollow\" target=\"_blank\">Waikato Institute of Technology </a>,\n",
       " <a href=\"http://www.whanganui.ac.nz/\" rel=\"nofollow\" target=\"_blank\">Wanganui Regional Community Polytechnic</a>,\n",
       " <a href=\"http://www.cit.ac.nz/\" rel=\"nofollow\" target=\"_blank\">Wellington Institute of Technology</a>,\n",
       " <a href=\"http://www.witt.ac.nz/\" rel=\"nofollow\" target=\"_blank\">Western Institute of Technology</a>,\n",
       " <a href=\"http://www.whitireia.ac.nz/\" rel=\"nofollow\" target=\"_blank\">Whitireia New Zealand</a>,\n",
       " <a href=\"http://www.waikato.ac.nz/education\" rel=\"nofollow\" target=\"_blank\">The University of wsikato School of Education</a>,\n",
       " <a href=\"http://www.wce.ac.nz/\" rel=\"nofollow\" target=\"_blank\">Wellington College of Education</a>,\n",
       " <a href=\"http://www.ipc.ac.nz/\" rel=\"nofollow\" target=\"_blank\">International Pacifica College</a>,\n",
       " <a href=\"http://www.ais.ac.nz/\" rel=\"nofollow\" target=\"_blank\">Auckland Institute of Studies</a>,\n",
       " <a href=\"http://www.carey.ac.nz/\" rel=\"nofollow\" target=\"_blank\">Carey Baptist College</a>,\n",
       " <a href=\"http://www.crown.ac.nz/\" rel=\"nofollow\" target=\"_blank\">Crown Institute of Studies</a>,\n",
       " <a href=\"http://www.whitecliffe.ac.nz/\" rel=\"nofollow\" target=\"_blank\">Whitecliffe college of Art and Design</a>]"
      ]
     },
     "metadata": {},
     "execution_count": 18
    }
   ],
   "source": [
    "all_links = soup.findAll('a', attrs={'rel':'nofollow'})\n",
    "all_links"
   ]
  },
  {
   "cell_type": "code",
   "execution_count": 23,
   "metadata": {},
   "outputs": [],
   "source": [
    "url = ''\n",
    "page = requests.get(url)\n",
    "soup = BeautifulSoup(page.text, 'html.parser')"
   ]
  },
  {
   "cell_type": "code",
   "execution_count": 46,
   "metadata": {},
   "outputs": [],
   "source": [
    "everything = soup.findAll('p')"
   ]
  },
  {
   "cell_type": "code",
   "execution_count": 49,
   "metadata": {},
   "outputs": [],
   "source": [
    "count = 0\n",
    "for each in everything:\n",
    "    if each.string:\n",
    "        count += len(each.string)\n",
    "    "
   ]
  },
  {
   "cell_type": "code",
   "execution_count": 50,
   "metadata": {},
   "outputs": [
    {
     "output_type": "execute_result",
     "data": {
      "text/plain": [
       "521.6"
      ]
     },
     "metadata": {},
     "execution_count": 50
    }
   ],
   "source": [
    "count / 5"
   ]
  },
  {
   "cell_type": "code",
   "execution_count": null,
   "metadata": {},
   "outputs": [],
   "source": []
  }
 ]
}