{
 "metadata": {
  "language_info": {
   "codemirror_mode": {
    "name": "ipython",
    "version": 3
   },
   "file_extension": ".py",
   "mimetype": "text/x-python",
   "name": "python",
   "nbconvert_exporter": "python",
   "pygments_lexer": "ipython3",
   "version": "3.7.10"
  },
  "orig_nbformat": 2,
  "kernelspec": {
   "name": "python3710jvsc74a57bd0f251317cbd741716559e4de373cc4436450ae79b12f47fee4349c7f6a5b242a1",
   "display_name": "Python 3.7.10 64-bit ('phungqv': conda)"
  },
  "metadata": {
   "interpreter": {
    "hash": "f251317cbd741716559e4de373cc4436450ae79b12f47fee4349c7f6a5b242a1"
   }
  }
 },
 "nbformat": 4,
 "nbformat_minor": 2,
 "cells": [
  {
   "cell_type": "code",
   "execution_count": 3,
   "metadata": {},
   "outputs": [],
   "source": [
    "AEIOUY_VN = list(\"aáàảãạăắằẳẵặâấầẩẫậeéèẻẽẹêếềểễệiíìỉĩịoóòỏõọôốồổỗộơớờởỡợuúùủũụưứừửữựyýỳỷỹỵ\")\n"
   ]
  },
  {
   "cell_type": "code",
   "execution_count": 18,
   "metadata": {},
   "outputs": [
    {
     "output_type": "stream",
     "name": "stdout",
     "text": [
      "['ng', 'o', 'n']\n"
     ]
    }
   ],
   "source": [
    "word = 'ngon'\n",
    "word_components = []\n",
    "component_start_pos = 0\n",
    "switch = False\n",
    "for i, char in enumerate(word):\n",
    "    if not switch:\n",
    "       if char in AEIOUY_VN:\n",
    "            if i != 0:\n",
    "                word_components.append(word[:i])\n",
    "            component_start_pos = i\n",
    "            switch = True\n",
    "    else:\n",
    "        if char not in AEIOUY_VN:\n",
    "            word_components.append(word[component_start_pos:i])\n",
    "            word_components.append(word[i:])\n",
    "            break\n",
    "        elif i == len(word) - 1:\n",
    "            word_components.append(word[component_start_pos:])\n",
    "print(word_components)"
   ]
  },
  {
   "cell_type": "code",
   "execution_count": null,
   "metadata": {},
   "outputs": [],
   "source": []
  }
 ]
}