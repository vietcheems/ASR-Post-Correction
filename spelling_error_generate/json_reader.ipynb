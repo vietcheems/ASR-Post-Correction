{
 "cells": [
  {
   "cell_type": "code",
   "execution_count": 3,
   "metadata": {},
   "outputs": [],
   "source": [
    "import numpy as np\n",
    "import json"
   ]
  },
  {
   "cell_type": "code",
   "execution_count": 4,
   "metadata": {},
   "outputs": [
    {
     "name": "stdout",
     "output_type": "stream",
     "text": "add_noise.py\t  final_data.json    __pycache__      Untitled.ipynb\nalphabet.py\t  json_reader.ipynb  test_truth.json\ndata_generate.py  noise_data.json    train_data.json\n"
    }
   ],
   "source": [
    "!ls "
   ]
  },
  {
   "cell_type": "code",
   "execution_count": 4,
   "metadata": {},
   "outputs": [
    {
     "output_type": "stream",
     "name": "stdout",
     "text": "-------------------------------------------------------------\n"
    },
    {
     "output_type": "error",
     "ename": "TypeError",
     "evalue": "list indices must be integers or slices, not dict",
     "traceback": [
      "\u001b[0;31m---------------------------------------------------------------------------\u001b[0m",
      "\u001b[0;31mTypeError\u001b[0m                                 Traceback (most recent call last)",
      "\u001b[0;32m<ipython-input-4-07b59b902cf9>\u001b[0m in \u001b[0;36m<module>\u001b[0;34m\u001b[0m\n\u001b[1;32m      8\u001b[0m     \u001b[0mprint\u001b[0m\u001b[0;34m(\u001b[0m\u001b[0;34m'-------------------------------------------------------------'\u001b[0m\u001b[0;34m)\u001b[0m\u001b[0;34m\u001b[0m\u001b[0;34m\u001b[0m\u001b[0m\n\u001b[1;32m      9\u001b[0m     \u001b[0;32mfor\u001b[0m \u001b[0mx\u001b[0m \u001b[0;32min\u001b[0m \u001b[0mdt\u001b[0m\u001b[0;34m:\u001b[0m\u001b[0;34m\u001b[0m\u001b[0;34m\u001b[0m\u001b[0m\n\u001b[0;32m---> 10\u001b[0;31m         \u001b[0mprint\u001b[0m\u001b[0;34m(\u001b[0m\u001b[0;34m\"\\n%-10s : %s\"\u001b[0m\u001b[0;34m%\u001b[0m\u001b[0;34m(\u001b[0m\u001b[0mx\u001b[0m\u001b[0;34m,\u001b[0m\u001b[0mstr\u001b[0m\u001b[0;34m(\u001b[0m\u001b[0mdt\u001b[0m\u001b[0;34m[\u001b[0m\u001b[0mx\u001b[0m\u001b[0;34m]\u001b[0m\u001b[0;34m)\u001b[0m\u001b[0;34m)\u001b[0m\u001b[0;34m)\u001b[0m\u001b[0;34m\u001b[0m\u001b[0;34m\u001b[0m\u001b[0m\n\u001b[0m\u001b[1;32m     11\u001b[0m \u001b[0;31m#     data = json.loads(data)\u001b[0m\u001b[0;34m\u001b[0m\u001b[0;34m\u001b[0m\u001b[0;34m\u001b[0m\u001b[0m\n",
      "\u001b[0;31mTypeError\u001b[0m: list indices must be integers or slices, not dict"
     ]
    }
   ],
   "source": [
    "with open('train_data.json','r') as f:\n",
    "    data= []\n",
    "    for line in f:\n",
    "        data.append(json.loads(line))\n",
    "\n",
    "\n",
    "for dt in data[0:10000:1000]:\n",
    "    print('-------------------------------------------------------------')\n",
    "    for x in dt:\n",
    "        print(\"\\n%-10s : %s\"%(x,str(dt[x])))\n",
    "#     data = json.loads(data)"
   ]
  },
  {
   "cell_type": "code",
   "execution_count": 41,
   "metadata": {},
   "outputs": [
    {
     "data": {
      "text/plain": [
       "list"
      ]
     },
     "execution_count": 41,
     "metadata": {},
     "output_type": "execute_result"
    }
   ],
   "source": [
    "type(data)"
   ]
  },
  {
   "cell_type": "code",
   "execution_count": 5,
   "metadata": {},
   "outputs": [
    {
     "output_type": "stream",
     "name": "stdout",
     "text": "-------------------------------------------------------------\ntid:0\nindex:0\ninput:['Bây', 'giờ', 'mà', 'kiểm', 'dịch', ',', 'quản', 'lý', 'giết', 'mổ', 'thì', 'chẳng', 'lẽ', 'mai', 'mốt', 'mấy', 'món', 'lhậu', 'khác', 'như', 'rắn', ',', 'chim', ',', 'chuootj', 'cũng', 'phải', 'kiểm', 'dịch', 'luôn', 'sao', '”', '.']\noutput:['Bây', 'giờ', 'mà', 'kiểm', 'dịch', ',', 'quản', 'lý', 'giết', 'mổ', 'thì', 'chẳng', 'lẽ', 'mai', 'mốt', 'mấy', 'món', 'nhậu', 'khác', 'như', 'rắn', ',', 'chim', ',', 'chuột', 'cũng', 'phải', 'kiểm', 'dịch', 'luôn', 'sao', '”', '.']\nerror:[0, 0, 0, 0, 0, 0, 0, 0, 0, 0, 0, 0, 0, 0, 0, 0, 0, 9, 0, 0, 0, 0, 0, 0, 6, 0, 0, 0, 0, 0, 0, 0, 0]\n-------------------------------------------------------------\ntid:1\nindex:1\ninput:['Ngoài', 'phía', 'biển', ',sau', 'năm2001', ',', 'khi', 'ngành', 'thuỷ', 'sản', 'hoàn', 'thành', 'đề', 'tài', 'thực', 'nghiệm', 'nôi', 'tôm', 'trên', 'cát', 'bằng', 'vật', 'liệu', 'chống', 'thấm', 'rẻ', 'tiền', ',', 'nhiều', 'hộ', 'đã', 'đầu', 'tư', 'hàng', 'trăm', 'triệu', 'đồng', 'đào', 'hồ', ',', 'mua', 'con', 'giống', 'thả', 'nuôi', '.']\noutput:['Ngoài', 'phía', 'biển', ', sau', 'năm 2001', ',', 'khi', 'ngành', 'thuỷ', 'sản', 'hoàn', 'thành', 'đề', 'tài', 'thực', 'nghiệm', 'nuôi', 'tôm', 'trên', 'cát', 'bằng', 'vật', 'liệu', 'chống', 'thấm', 'rẻ', 'tiền', ',', 'nhiều', 'hộ', 'đã', 'đầu', 'tư', 'hàng', 'trăm', 'triệu', 'đồng', 'đào', 'hồ', ',', 'mua', 'con', 'giống', 'thả', 'nuôi', '.']\nerror:[0, 0, 0, 4, 4, 0, 0, 0, 0, 0, 0, 0, 0, 0, 0, 0, 1, 0, 0, 0, 0, 0, 0, 0, 0, 0, 0, 0, 0, 0, 0, 0, 0, 0, 0, 0, 0, 0, 0, 0, 0, 0, 0, 0, 0, 0]\n-------------------------------------------------------------\ntid:2\nindex:2\ninput:['Solembum', 'nằmbên', 'cạnh', 'bà', ',', 'cái', 'đầu', 'ló', 'ngả', 'vào', 'giạt', 'áo', 'bà', ',', 'một', 'bàn', 'chân', 'gác', 'lênđầu', 'gối', 'phải', 'Angela', '.']\noutput:['Solembum', 'nằm bên', 'cạnh', 'bà', ',', 'cái', 'đầu', 'nó', 'ngả', 'vào', 'vạt', 'áo', 'bà', ',', 'một', 'bàn', 'chân', 'gác', 'lên đầu', 'gối', 'phải', 'Angela', '.']\nerror:[0, 4, 0, 0, 0, 0, 0, 9, 0, 0, 9, 0, 0, 0, 0, 0, 0, 0, 4, 0, 0, 0, 0]\n-------------------------------------------------------------\ntid:3\nindex:3\ninput:['Trước', 'khi', 'vào', 'việc', ',', 'tôi', 'đã', 'kết', 'thâng', 'với', 'chị', 'Hà', 'Thị', 'Lơ', ',', '40', 'tuổi', ',', 'nhà', 'ở', 'xóm', 'Vạn', 'Đò', ',', 'phường', 'Phú', 'Bìnhđể', 'học', 'bàinhập', 'môn', ':', 'phải', 'nhanh', 'chân', 'mới', 'có', 'việc', '.']\noutput:['Trước', 'khi', 'vào', 'việc', ',', 'tôi', 'đã', 'kết', 'thân', 'với', 'chị', 'Hà', 'Thị', 'Lơ', ',', '40', 'tuổi', ',', 'nhà', 'ở', 'xóm', 'Vạn', 'Đò', ',', 'phường', 'Phú', 'Bình để', 'học', 'bài nhập', 'môn', ':', 'phải', 'nhanh', 'chân', 'mới', 'có', 'việc', '.']\nerror:[0, 0, 0, 0, 0, 0, 0, 0, 10, 0, 0, 0, 0, 0, 0, 0, 0, 0, 0, 0, 0, 0, 0, 0, 0, 0, 4, 0, 4, 0, 0, 0, 0, 0, 0, 0, 0, 0]\n-------------------------------------------------------------\ntid:4\nindex:4\ninput:['Họ', 'nói', 'vớitôi', 'rằng', 'vì', 'không', 'còn', 'hi', 'vọng', 'tìm', 'd9u7o7c5', 'gia', 'đình', 'tôi', ',', 'họ', 'đã', 'có', 'ýđịnh', 'in', 'hai', 'ucốn', 'nhật', 'ký', 'thành', 'sách', 'để', 'cã', 'thế', 'dới', 'được', 'biết', 'về', 'mo6t5', 'nữ', 'bác', 'sĩ', 'cộng', 'sảnngười', 'Hà', 'Nội', 'đã', 'sống', 'và', 'đã', 'chết', 'ra', 's', 'ao', '.']\noutput:['Họ', 'nói', 'với tôi', 'rằng', 'vì', 'không', 'còn', 'hi', 'vọng', 'tìm', 'được', 'gia', 'đình', 'tôi', ',', 'họ', 'đã', 'có', 'ý định', 'in', 'hai', 'cuốn', 'nhật', 'ký', 'thành', 'sách', 'để', 'cả', 'thế', 'giới', 'được', 'biết', 'về', 'một', 'nữ', 'bác', 'sĩ', 'cộng', 'sản người', 'Hà', 'Nội', 'đã', 'sống', 'và', 'đã', 'chết', 'ra', 'sao', '', '.']\nerror:[0, 0, 4, 0, 0, 0, 0, 0, 0, 0, 7, 0, 0, 0, 0, 0, 0, 0, 4, 0, 0, 2, 0, 0, 0, 0, 0, 11, 0, 9, 0, 0, 0, 7, 0, 0, 0, 0, 4, 0, 0, 0, 0, 0, 0, 0, 0, 3, 3, 0]\n-------------------------------------------------------------\ntid:5\nindex:5\ninput:['Nyưng', 'chắc', 'nó', 'cũng', 'phải', 'nghỉ', 'học', 'thôi', 'vì', 'quá', 'tuổi', 'ai', 'cho', 'thi', '.']\noutput:['Nhưng', 'chắc', 'nó', 'cũng', 'phải', 'nghỉ', 'học', 'thôi', 'vì', 'quá', 'tuổi', 'ai', 'cho', 'thi', '.']\nerror:[5, 0, 0, 0, 0, 0, 0, 0, 0, 0, 0, 0, 0, 0, 0]\n-------------------------------------------------------------\ntid:6\nindex:6\ninput:['Câu', 'mowr', 'đầu', 'quá', 'quen', 'thuuuuộc', 'đối', 'với', 'kác', 'fang', 'của', 'series', 'nafy', '.', 'Cáchđây', '10', 'năm', 'tôi', 'vẫn', 'còn', 'đang', 'tự', 'hõi', 'pha3i', 'chi', 'có', 'một', 'bộ', 'phim', 'về', 'những', 'cô', 'làng', 'Queen.B,', 'về', 'lhững', 'anhchàng', 'nhà', 'giàu', ',', 'về', 'cái', 'cách', 'họ', 'yêu', 'và', 'làmbạn', 'có', 'khác', 'với', 'bọn', \"'thường\", 'dân', \"'\", 'như', 'chúng', 'tôikhông', '?', 'Cứ', 'mơ', 'như', 'thế', 'rồi', 'chìm', 'đắm', 'vào', 'thế', 'giới', 'riêng', 'của', 'mình', '.']\noutput:['Câu', 'mở', 'đầu', 'quá', 'quen', 'thuộc', 'đối', 'với', 'các', 'fan', 'của', 'series', 'này', '.', 'Cách đây', '10', 'năm', 'tôi', 'vẫn', 'còn', 'đang', 'tự', 'hỏi', 'phải', 'chi', 'có', 'một', 'bộ', 'phim', 'về', 'những', 'cô', 'nàng', 'Queen.B ,', 'về', 'những', 'anh chàng', 'nhà', 'giàu', ',', 'về', 'cái', 'cách', 'họ', 'yêu', 'và', 'làm bạn', 'có', 'khác', 'với', 'bọn', \"'thường\", 'dân', \"'\", 'như', 'chúng', 'tôi không', '?', 'Cứ', 'mơ', 'như', 'thế', 'rồi', 'chìm', 'đắm', 'vào', 'thế', 'giới', 'riêng', 'của', 'mình', '.']\nerror:[0, 6, 0, 0, 0, 8, 0, 0, 12, 10, 0, 0, 6, 0, 4, 0, 0, 0, 0, 0, 0, 0, 11, 7, 0, 0, 0, 0, 0, 0, 0, 0, 9, 4, 0, 9, 4, 0, 0, 0, 0, 0, 0, 0, 0, 0, 4, 0, 0, 0, 0, 0, 0, 0, 0, 0, 4, 0, 0, 0, 0, 0, 0, 0, 0, 0, 0, 0, 0, 0, 0, 0]\n-------------------------------------------------------------\ntid:7\nindex:7\ninput:['Nhưnn', 'em', 'phải', 'nhớ', ',', 'một', 'khi', 'em', 'không', 'đủ', 'khả', 'năng', 'để', 'che', 'mắt', 'người', 'khác', 'thì', 'đừng', 'để', 'lộ', 'lhững', 'yếu', 'điểm', 'của', 'mình', '!']\noutput:['Nhưng', 'em', 'phải', 'nhớ', ',', 'một', 'khi', 'em', 'không', 'đủ', 'khả', 'năng', 'để', 'che', 'mắt', 'người', 'khác', 'thì', 'đừng', 'để', 'lộ', 'những', 'yếu', 'điểm', 'của', 'mình', '!']\nerror:[5, 0, 0, 0, 0, 0, 0, 0, 0, 0, 0, 0, 0, 0, 0, 0, 0, 0, 0, 0, 0, 9, 0, 0, 0, 0, 0]\n-------------------------------------------------------------\ntid:8\nindex:8\ninput:['Anh', 'ấy', 'từng', 'mua', 'một', 'căn', 'nhà', 'nhưng', 'khi', 'đó', 'vợ', 'chồng', 'tôi', 'chưa', 'chuyển', 'hộ', 'khẩu', 'lên', 'thành', 'phố', 'nên', 'anh', 'chồng', 'đã', 'g', 'iúp', 'đứng', 'lên', ',', 'làm', 'sổ', 'đỏ']\noutput:['Anh', 'ấy', 'từng', 'mua', 'một', 'căn', 'nhà', 'nhưng', 'khi', 'đó', 'vợ', 'chồng', 'tôi', 'chưa', 'chuyển', 'hộ', 'khẩu', 'lên', 'thành', 'phố', 'nên', 'anh', 'chồng', 'đã', 'giúp', '', 'đứng', 'lên', ',', 'làm', 'sổ', 'đỏ']\nerror:[0, 0, 0, 0, 0, 0, 0, 0, 0, 0, 0, 0, 0, 0, 0, 0, 0, 0, 0, 0, 0, 0, 0, 0, 3, 3, 0, 0, 0, 0, 0, 0]\n-------------------------------------------------------------\ntid:9\nindex:9\ninput:['Nghe', 'đâu', 'cánh', 'bám', 'Tây', 'bán', 'hàng', 'laf', 'đối', 'tượng', 'bị', 'truy', 'gắt', 'nhất.']\noutput:['Nghe', 'đâu', 'cánh', 'bám', 'Tây', 'bán', 'hàng', 'là', 'đối', 'tượng', 'bị', 'truy', 'gắt', 'nhất .']\nerror:[0, 0, 0, 0, 0, 0, 0, 6, 0, 0, 0, 0, 0, 4]\n"
    }
   ],
   "source": [
    "with open('train_data.json','r') as f:\n",
    "    data = f.read()\n",
    "    data = json.loads(data)\n",
    "for dt in data[0:10]:\n",
    "    print('-------------------------------------------------------------')\n",
    "    for x in dt:\n",
    "        print(x+':'+str(dt[x]))"
   ]
  },
  {
   "cell_type": "code",
   "execution_count": 51,
   "metadata": {},
   "outputs": [
    {
     "name": "stdout",
     "output_type": "stream",
     "text": [
      "17271\n"
     ]
    }
   ],
   "source": [
    "with open('data_.jsonl','r') as f:\n",
    "    data= []\n",
    "    for line in f:\n",
    "        data.append(json.loads(line))\n",
    "print(len(data))\n",
    "with open('original.txt','w') as w:\n",
    "    for dt in data:\n",
    "        w.write(dt['original']+'\\n')"
   ]
  },
  {
   "cell_type": "code",
   "execution_count": null,
   "metadata": {},
   "outputs": [],
   "source": []
  }
 ],
 "metadata": {
  "kernelspec": {
   "display_name": "Python 3",
   "language": "python",
   "name": "python3"
  },
  "language_info": {
   "codemirror_mode": {
    "name": "ipython",
    "version": 3
   },
   "file_extension": ".py",
   "mimetype": "text/x-python",
   "name": "python",
   "nbconvert_exporter": "python",
   "pygments_lexer": "ipython3",
   "version": "3.6.8-final"
  }
 },
 "nbformat": 4,
 "nbformat_minor": 2
}