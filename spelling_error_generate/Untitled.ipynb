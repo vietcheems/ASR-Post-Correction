{
 "cells": [
  {
   "cell_type": "code",
   "execution_count": 1,
   "metadata": {},
   "outputs": [],
   "source": [
    "from add_noise import *"
   ]
  },
  {
   "cell_type": "code",
   "execution_count": 21,
   "metadata": {},
   "outputs": [
    {
     "data": {
      "text/plain": [
       "(['xin', 'hào', 'các', 'bạn'], ['xin', 'hào', 'các', 'bạn'], [0, 1, 0, 0])"
      ]
     },
     "execution_count": 21,
     "metadata": {},
     "output_type": "execute_result"
    }
   ],
   "source": [
    "from add_noise import *\n",
    "\n",
    "input_sentence = ['xin','chào','các','bạn']\n",
    "output_sentence = input_sentence\n",
    "error_position = [0,0,0,0]\n",
    "add_noise_sentence(input_sentence,output_sentence,error_position,1)"
   ]
  },
  {
   "cell_type": "code",
   "execution_count": null,
   "metadata": {},
   "outputs": [
    {
     "output_type": "error",
     "ename": "Error",
     "evalue": "Jupyter cannot be started. Error attempting to locate jupyter: Data Science libraries jupyter and notebook are not installed in interpreter Python 3.6.10 64-bit ('them_dau_tensor': conda).",
     "traceback": [
      "Error: Jupyter cannot be started. Error attempting to locate jupyter: Data Science libraries jupyter and notebook are not installed in interpreter Python 3.6.10 64-bit ('them_dau_tensor': conda).",
      "at b.startServer (/home/anhdtd/.vscode-server/extensions/ms-python.python-2020.6.88468/out/client/extension.js:48:288041)",
      "at processTicksAndRejections (internal/process/task_queues.js:89:5)",
      "at async b.createServer (/home/anhdtd/.vscode-server/extensions/ms-python.python-2020.6.88468/out/client/extension.js:48:287483)",
      "at async connect (/home/anhdtd/.vscode-server/extensions/ms-python.python-2020.6.88468/out/client/extension.js:48:411428)",
      "at async P.ensureConnectionAndNotebookImpl (/home/anhdtd/.vscode-server/extensions/ms-python.python-2020.6.88468/out/client/extension.js:24:434785)",
      "at async P.ensureConnectionAndNotebook (/home/anhdtd/.vscode-server/extensions/ms-python.python-2020.6.88468/out/client/extension.js:24:434463)",
      "at async P.clearResult (/home/anhdtd/.vscode-server/extensions/ms-python.python-2020.6.88468/out/client/extension.js:24:430389)",
      "at async P.reexecuteCell (/home/anhdtd/.vscode-server/extensions/ms-python.python-2020.6.88468/out/client/extension.js:24:416858)",
      "at async P.reexecuteCells (/home/anhdtd/.vscode-server/extensions/ms-python.python-2020.6.88468/out/client/extension.js:24:413661)"
     ]
    }
   ],
   "source": [
    "import pickle\n",
    "import numpy as np\n",
    "with open('large_data/data_refine.txt','r') as f:\n",
    "    data = f.read().spilt('\\n')"
   ]
  },
  {
   "cell_type": "code",
   "execution_count": null,
   "metadata": {},
   "outputs": [],
   "source": []
  }
 ],
 "metadata": {
  "kernelspec": {
   "display_name": "Python 3",
   "language": "python",
   "name": "python3"
  },
  "language_info": {
   "codemirror_mode": {
    "name": "ipython",
    "version": 3
   },
   "file_extension": ".py",
   "mimetype": "text/x-python",
   "name": "python",
   "nbconvert_exporter": "python",
   "pygments_lexer": "ipython3",
   "version": "3.6.8"
  }
 },
 "nbformat": 4,
 "nbformat_minor": 2
}