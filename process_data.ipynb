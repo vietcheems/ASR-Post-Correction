{
 "metadata": {
  "language_info": {
   "codemirror_mode": {
    "name": "ipython",
    "version": 3
   },
   "file_extension": ".py",
   "mimetype": "text/x-python",
   "name": "python",
   "nbconvert_exporter": "python",
   "pygments_lexer": "ipython3",
   "version": "3.7.10"
  },
  "orig_nbformat": 2,
  "kernelspec": {
   "name": "python3",
   "display_name": "Python 3.7.10 64-bit ('phungqv': conda)"
  },
  "metadata": {
   "interpreter": {
    "hash": "f251317cbd741716559e4de373cc4436450ae79b12f47fee4349c7f6a5b242a1"
   }
  },
  "interpreter": {
   "hash": "f251317cbd741716559e4de373cc4436450ae79b12f47fee4349c7f6a5b242a1"
  }
 },
 "nbformat": 4,
 "nbformat_minor": 2,
 "cells": [
  {
   "cell_type": "code",
   "execution_count": 2,
   "metadata": {},
   "outputs": [],
   "source": [
    "import pandas as pd\n",
    "import re\n",
    "import os\n",
    "import sys\n",
    "sys.path.append('/home3/phungqv/number_normalizer/vietnam_number')\n",
    "import vietnam_number"
   ]
  },
  {
   "cell_type": "code",
   "execution_count": 149,
   "metadata": {},
   "outputs": [],
   "source": [
    "# re.sub(number, add_space_to_num, '2 đô la sự việc xảy phẩy ra vào cộng ngày a còng 9 2 chấm 239847,30294 asdfsdas 239048.5409385')"
   ]
  },
  {
   "source": [
    "## Process data (numbers not converted to word)"
   ],
   "cell_type": "markdown",
   "metadata": {}
  },
  {
   "cell_type": "code",
   "execution_count": 150,
   "metadata": {
    "tags": []
   },
   "outputs": [],
   "source": [
    "d = {'input': [], 'target' : []}\n",
    "punctuation = '!\"#&\\',-:;?[\\]^_`{|}().'\n",
    "\n",
    "number = re.compile(r'(0|1|2|3|4|5|6|7|7|8|9){2,}')\n",
    "def add_space_to_num(match):\n",
    "    str_l = [char for char in match.group(0)]\n",
    "    return ' '.join(str_l)\n",
    "\n",
    "with open('/home3/phungqv/data_generate/data/100k/data_small.txt.norm') as data:\n",
    "# data = ['2$ Sự việc xảy, ra vào + ngày@ 9/2 1098.210  32478,1238.\t2$ Sự việc xảy, ra vào + ngày@ mùng chín tháng hai .']\n",
    "    for line in data:\n",
    "        line = line.lower()\n",
    "        if '/' in  line:\n",
    "            continue\n",
    "        line = line.split('\t')\n",
    "\n",
    "        for i in range(2):\n",
    "            line[i] = line[i].strip()\n",
    "            line[i] = line[i].replace('$', ' đô la ')\n",
    "            line[i] = line[i].replace(',', ' phẩy ')\n",
    "            line[i] = line[i].replace('%', ' phần trăm ')\n",
    "            line[i] = line[i].replace('@', ' a còng ')\n",
    "            line[i] = line[i].replace('+' , ' cộng ')\n",
    "\n",
    "            # line[i] = re.sub(number, add_space_to_num, line[i])      #for separating numbers\n",
    "\n",
    "            line[i] = line[i].translate(str.maketrans(punctuation, ' '*len(punctuation)))\n",
    "            line[i] = ' '.join(line[i].split())\n",
    "\n",
    "        # line[0] = line[0].strip()\n",
    "        # line[1] = line[1].strip()\n",
    "\n",
    "        # line[0] = line[0].translate(str.maketrans(punctuation, ' '*len(punctuation)))\n",
    "        # line[1] = line[1].translate(str.maketrans(punctuation, ' '*len(punctuation)))\n",
    "\n",
    "        # line[0] = line[0].replace('$', ' đô la')\n",
    "\n",
    "\n",
    "        # line[0] = ' '.join(line[0].split())\n",
    "        # line[1] = ' '.join(line[1].split())\n",
    "\n",
    "        d['input'].append(line[1])\n",
    "        d['target'].append(line[0])"
   ]
  },
  {
   "source": [
    "## Process data (numbers in labels converted to words like 20 -> hai mươi)"
   ],
   "cell_type": "markdown",
   "metadata": {}
  },
  {
   "cell_type": "code",
   "execution_count": 152,
   "metadata": {},
   "outputs": [],
   "source": [
    "d = {'input': [], 'target' : []}\n",
    "punctuation = '!\"#&\\',-:;?[\\]^_`{|}().'\n",
    "\n",
    "number = re.compile(r' (0|1|2|3|4|5|6|7|7|8|9)+')\n",
    "def num_to_word(match):\n",
    "    result = vietnam_number.n2w(match.group(0).strip())\n",
    "    return result.replace('lẽ', 'linh')\n",
    "\n",
    "with open('/home3/phungqv/data_generate/data/100k/data_small.txt.norm') as data:\n",
    "# data = ['2$ Sự việc xảy, ra vào + ngày@ 9/2 1098.210  32478,1238.\t2$ Sự việc xảy, ra vào + ngày@ mùng chín tháng hai .']\n",
    "    for line in data:\n",
    "        if '/' in line:\n",
    "            continue\n",
    "        line = line.lower()\n",
    "        line = line.split('\t')\n",
    "\n",
    "        for i in range(2):\n",
    "            line[i] = ' ' + line[i] + ' '\n",
    "            line[i] = line[i].replace('$', ' đô la ')\n",
    "            line[i] = line[i].replace(',', ' phẩy ')\n",
    "            line[i] = line[i].replace('%', ' phần trăm ')\n",
    "            line[i] = line[i].replace('@', ' a còng ')\n",
    "            line[i] = line[i].replace('+' , ' cộng ')\n",
    "\n",
    "            line[i] = re.sub(number, num_to_word, line[i])      #for converting numbers\n",
    "\n",
    "            line[i] = line[i].translate(str.maketrans(punctuation, ' '*len(punctuation)))\n",
    "            line[i] = line[i].strip()\n",
    "            line[i] = ' '.join(line[i].split())\n",
    "\n",
    "        d['input'].append(line[1])\n",
    "        d['target'].append(line[0])"
   ]
  },
  {
   "source": [
    "## Process data (words in labels converted to numbers like một trăm -> 100)"
   ],
   "cell_type": "markdown",
   "metadata": {}
  },
  {
   "cell_type": "code",
   "execution_count": 3,
   "metadata": {},
   "outputs": [],
   "source": [
    "pattern_year_with_month = re.compile(r'((ngày|mùng)\\s)?(?(1)((mười|mươi|một|mốt|hai|ba|bốn|tư|năm|lăm|sáu|bảy|bẩy|tám|chín)(\\s)?){1,2})(tháng\\s)(?(6)((một|hai|ba|tư|bốn|năm|sáu|bảy|bẩy|tám|chín|mười|mười một|mười hai)\\s))năm', re.IGNORECASE)\n",
    "\n",
    "pattern_num = re.compile(r'((không\\s?)*(một|hai|ba|bốn|tư|năm|sáu|bảy|bẩy|tám|chín|mười)\\s?)((linh|lẻ|không|một|mốt|hai|ba|bốn|tư|năm|lăm|nhăm|sáu|bảy|bẩy|tám|chín|mười|mươi|chục|trăm|nghìn|ngàn|triệu|tỉ|tỷ)\\s?)*(?!#)', re.IGNORECASE)\n",
    "\n",
    "pattern_more1num = re.compile(r'((không\\s)*(một|hai|ba|bốn|tư|năm|sáu|bảy|bẩy|tám|chín|mười)\\s?)((linh|lẻ|không|một|mốt|hai|ba|bốn|tư|năm|lăm|nhăm|sáu|bảy|bẩy|tám|chín|mười|mươi|chục|trăm|nghìn|ngàn|triệu|tỉ|tỷ)\\s?)+', re.IGNORECASE)\n",
    "\n",
    "pattern_year_only_full_num = re.compile(r'(một|hai|ba|bốn|năm|sáu|bảy|bẩy|tám|chín|mười)\\s(mốt|lăm|tư|mươi|linh|lẻ|chục|trăm|nghìn|triệu|tỉ|tỷ)', re.IGNORECASE)\n",
    "\n",
    "pattern_num_with_phay = re.compile(r'((không\\s)*(một|hai|ba|bốn|tư|năm|sáu|bảy|bẩy|tám|chín|mười)\\s?)((linh|lẻ|không|một|mốt|hai|ba|bốn|tư|năm|lăm|nhăm|sáu|bảy|bẩy|tám|chín|mười|mươi|chục|trăm|nghìn|ngàn|triệu|tỉ|tỷ)\\s?)*,((không|một|hai|ba|bốn|năm|sáu|bảy|bẩy|tám|chín)\\s?)+', re.IGNORECASE)\n",
    "\n",
    "\n",
    "full_num_word_list = ['mươi', 'mười','linh','lẻ','chục','trăm','nghìn','ngàn','triệu','tỉ','tỷ','lăm','nhăm']\n",
    "\n",
    "def check_single_num(num):\n",
    "    for word in full_num_word_list:\n",
    "        if word in num:\n",
    "            return False\n",
    "    return True\n",
    "\n",
    "\n",
    "def num_with_phay_process(match):\n",
    "    whole_num = match.group(0)\n",
    "    num_list = whole_num.strip().split(',')\n",
    "    new_num_list = []\n",
    "    for num in num_list:\n",
    "        if check_single_num(num):\n",
    "            new_num_list.append(str(w2n_single(num)))\n",
    "        else:\n",
    "            new_num_list.append(str(w2n(num)))\n",
    "    return ','.join(new_num_list) + ' '\n",
    "\n",
    "\n",
    "def num_process(match):\n",
    "    whole_num = match.group(0)\n",
    "    year = ''\n",
    "    if whole_num.startswith('năm'):\n",
    "        if check_year_only_full_num(whole_num):\n",
    "            year = '##' + whole_num[:3] + '##' + ' ' \n",
    "            whole_num = whole_num[3:]\n",
    "    # else:\n",
    "    if check_single_num(whole_num):\n",
    "        return year + str(w2n_single(whole_num)) + ' '\n",
    "    else:\n",
    "        return year + str(w2n(whole_num)) + ' '\n",
    "\n",
    "\n",
    "def year_with_month_num_process(match):\n",
    "    num = match.group(0).strip()\n",
    "    if check_single_num(num):\n",
    "        return str(w2n_single(num)) + ' '\n",
    "    else:\n",
    "        return str(w2n(num)) + ' '\n",
    "\n",
    "def year_with_month_process(match):\n",
    "    result = match.group(0)[:-3] + '##' + match.group(0)[-3:] + '##'\n",
    "    return re.sub(pattern_num, year_with_month_num_process, result)\n",
    "    \n",
    "\n",
    "def check_year_only_full_num(s):\n",
    "    if not s.startswith('năm'):\n",
    "        # print('doesnt start with nam')\n",
    "        return False\n",
    "    remove_nam = s[4:]\n",
    "    for word in full_num_word_list:\n",
    "        if remove_nam.startswith(word):\n",
    "            return False\n",
    "    result = re.search(pattern_year_only_full_num, s)\n",
    "    if result:\n",
    "        return True\n",
    "    return False\n",
    "\n",
    "\n",
    "number = re.compile(r'(0|1|2|3|4|5|6|7|7|8|9){2,}')\n",
    "\n",
    "def add_space_to_num(match):\n",
    "    str_l = [char for char in match.group(0)]\n",
    "    return ' '.join(str_l)\n",
    "\n",
    "\n",
    "def convert_num(sentence):\n",
    "    sentence = re.sub(pattern_year_with_month, year_with_month_process, sentence)\n",
    "    sentence = re.sub(pattern_num_with_phay, num_with_phay_process, sentence)\n",
    "    # print(sentence)\n",
    "    sentence = re.sub(pattern_more1num, num_process, sentence)\n",
    "    sentence = sentence.replace('##', '')\n",
    "    sentence = re.sub(number, add_space_to_num, sentence)\n",
    "    \n",
    "    return sentence"
   ]
  },
  {
   "cell_type": "code",
   "execution_count": null,
   "metadata": {},
   "outputs": [],
   "source": [
    "d = {'input': [], 'target' : []}\n",
    "punctuation = '!\"#&\\',-:;?[\\]^_`{|}().'\n",
    "\n",
    "\n",
    "# with open('/home3/phungqv/data_generate/data/100k/data_small.txt.norm') as data:\n",
    "data = ['2$ Sự việc xảy, ra vào + ngày@ 9/2 1098.210  32478,1238.\t2$ Sự việc xảy, ra vào + ngày@ mùng chín tháng hai .']\n",
    "if data:\n",
    "    for line in data:\n",
    "        if '/' in line:\n",
    "            continue\n",
    "        line = line.lower()\n",
    "        line = line.split('\t')\n",
    "\n",
    "        for i in range(2):\n",
    "            line[i] = ' ' + line[i] + ' '\n",
    "            line[i] = line[i].replace('$', ' đô la ')\n",
    "            line[i] = line[i].replace(',', ' phẩy ')\n",
    "            line[i] = line[i].replace('%', ' phần trăm ')\n",
    "            line[i] = line[i].replace('@', ' a còng ')\n",
    "            line[i] = line[i].replace('+' , ' cộng ')\n",
    "\n",
    "            line[i] =  convert_num(sentence)\n",
    "            line[i] = line[i].translate(str.maketrans(punctuation, ' '*len(punctuation)))\n",
    "            line[i] = line[i].strip()\n",
    "            line[i] = ' '.join(line[i].split())\n",
    "\n",
    "        d['input'].append(line[1])\n",
    "        d['target'].append(line[0])"
   ]
  },
  {
   "cell_type": "code",
   "execution_count": 202,
   "metadata": {},
   "outputs": [
    {
     "output_type": "stream",
     "name": "stdout",
     "text": [
      " 2000000\n"
     ]
    },
    {
     "output_type": "execute_result",
     "data": {
      "text/plain": [
       "'hai triệu không trăm nghìn không trăm'"
      ]
     },
     "metadata": {},
     "execution_count": 202
    }
   ],
   "source": [
    "punctuation = '!\"#&\\',-:;?[\\]^_`{|}().'\n",
    "\n",
    "number = re.compile(r' ((0|1|2|3|4|5|6|7|7|8|9)+\\.?)+')\n",
    "def num_to_word(match):\n",
    "    print(match.group(0))\n",
    "    result = vietnam_number.n2w(match.group(0).strip())\n",
    "    return result.replace('lẽ', 'linh')\n",
    "re.sub(number, num_to_word, ' 2000000')"
   ]
  },
  {
   "cell_type": "code",
   "execution_count": 153,
   "metadata": {},
   "outputs": [
    {
     "output_type": "execute_result",
     "data": {
      "text/plain": [
       "'có lẽ đó là một ngôi mộ tập thể'"
      ]
     },
     "metadata": {},
     "execution_count": 153
    }
   ],
   "source": [
    "d['input'][0]"
   ]
  },
  {
   "cell_type": "code",
   "execution_count": 154,
   "metadata": {},
   "outputs": [],
   "source": [
    "df = pd.DataFrame(d)"
   ]
  },
  {
   "cell_type": "code",
   "execution_count": 155,
   "metadata": {},
   "outputs": [
    {
     "output_type": "execute_result",
     "data": {
      "text/plain": [
       "89574"
      ]
     },
     "metadata": {},
     "execution_count": 155
    }
   ],
   "source": [
    "len(df)"
   ]
  },
  {
   "cell_type": "code",
   "execution_count": 156,
   "metadata": {},
   "outputs": [
    {
     "output_type": "execute_result",
     "data": {
      "text/plain": [
       "input     nhóm cướp tiền phẩy vàng ở phú yên có ý định t...\n",
       "target    nhóm cướp tiền phẩy vàng ở phú yên có ý định t...\n",
       "Name: 89573, dtype: object"
      ]
     },
     "metadata": {},
     "execution_count": 156
    }
   ],
   "source": [
    "df.iloc[-1]"
   ]
  },
  {
   "cell_type": "code",
   "execution_count": 157,
   "metadata": {},
   "outputs": [
    {
     "output_type": "stream",
     "name": "stdout",
     "text": [
      "exported\n"
     ]
    }
   ],
   "source": [
    "path = '/home3/phungqv/data_generate/data/100k/number_converted'\n",
    "if not os.path.exists(os.path.join(path, 'data_small.csv')):\n",
    "    print('exported')\n",
    "    df.to_csv(os.path.join(path, 'data_small.csv'), index=False)"
   ]
  },
  {
   "cell_type": "code",
   "execution_count": 158,
   "metadata": {},
   "outputs": [],
   "source": [
    "df = pd.read_csv(os.path.join(path, 'data_small.csv'))\n"
   ]
  },
  {
   "cell_type": "code",
   "execution_count": 159,
   "metadata": {},
   "outputs": [
    {
     "output_type": "execute_result",
     "data": {
      "text/plain": [
       "                                               input  \\\n",
       "0                    có lẽ đó là một ngôi mộ tập thể   \n",
       "1  a xê an hy vọng sẽ đạt được bộ quy tắc ứng xử ...   \n",
       "2     cả nước chỉ có hai trăm ba mươi thanh tra y tế   \n",
       "3  khi đó phẩy em và bạn chạy theo phía sau bị hơ...   \n",
       "4                           mai mai theo x ta pun xờ   \n",
       "\n",
       "                                              target  \n",
       "0                    có lẽ đó là một ngôi mộ tập thể  \n",
       "1  asean hy vọng sẽ đạt được bộ quy tắc ứng xử bi...  \n",
       "2     cả nước chỉ có hai trăm ba mươi thanh tra y tế  \n",
       "3  khi đó phẩy em và bạn chạy theo phía sau bị hơ...  \n",
       "4                            mai mai theo star pulse  "
      ],
      "text/html": "<div>\n<style scoped>\n    .dataframe tbody tr th:only-of-type {\n        vertical-align: middle;\n    }\n\n    .dataframe tbody tr th {\n        vertical-align: top;\n    }\n\n    .dataframe thead th {\n        text-align: right;\n    }\n</style>\n<table border=\"1\" class=\"dataframe\">\n  <thead>\n    <tr style=\"text-align: right;\">\n      <th></th>\n      <th>input</th>\n      <th>target</th>\n    </tr>\n  </thead>\n  <tbody>\n    <tr>\n      <th>0</th>\n      <td>có lẽ đó là một ngôi mộ tập thể</td>\n      <td>có lẽ đó là một ngôi mộ tập thể</td>\n    </tr>\n    <tr>\n      <th>1</th>\n      <td>a xê an hy vọng sẽ đạt được bộ quy tắc ứng xử ...</td>\n      <td>asean hy vọng sẽ đạt được bộ quy tắc ứng xử bi...</td>\n    </tr>\n    <tr>\n      <th>2</th>\n      <td>cả nước chỉ có hai trăm ba mươi thanh tra y tế</td>\n      <td>cả nước chỉ có hai trăm ba mươi thanh tra y tế</td>\n    </tr>\n    <tr>\n      <th>3</th>\n      <td>khi đó phẩy em và bạn chạy theo phía sau bị hơ...</td>\n      <td>khi đó phẩy em và bạn chạy theo phía sau bị hơ...</td>\n    </tr>\n    <tr>\n      <th>4</th>\n      <td>mai mai theo x ta pun xờ</td>\n      <td>mai mai theo star pulse</td>\n    </tr>\n  </tbody>\n</table>\n</div>"
     },
     "metadata": {},
     "execution_count": 159
    }
   ],
   "source": [
    "df.head()"
   ]
  },
  {
   "cell_type": "code",
   "execution_count": 161,
   "metadata": {},
   "outputs": [],
   "source": [
    "added_errors = pd.read_json(os.path.join(path, 'train.json'))"
   ]
  },
  {
   "cell_type": "code",
   "execution_count": 162,
   "metadata": {},
   "outputs": [
    {
     "output_type": "execute_result",
     "data": {
      "text/plain": [
       "   tid  index                                              input  \\\n",
       "0    0      0          [có, nẽ, đó, nà, một, ngôi, mô, bập, thể]   \n",
       "1    1      1  [a, pê, an, hy, vọng, sẽ, đạt, đườc, bộ, quy, ...   \n",
       "2    2      2  [cả, nước, chỉ, có, haỉ, trăm, ba, mươi, thanh...   \n",
       "3    3      3  [khi, đó, phẩy, em, và, bạn, trạy, theo, phía,...   \n",
       "4    4      4                   [mai, maì, theo, x, ta, pun, xờ]   \n",
       "\n",
       "                                              output  \\\n",
       "0          [có, lẽ, đó, là, một, ngôi, mộ, tập, thể]   \n",
       "1  [a, xê, an, hy, vọng, sẽ, đạt, được, bộ, quy, ...   \n",
       "2  [cả, nước, chỉ, có, hai, trăm, ba, mươi, thanh...   \n",
       "3  [khi, đó, phẩy, em, và, bạn, chạy, theo, phía,...   \n",
       "4                   [mai, mai, theo, x, ta, pun, xờ]   \n",
       "\n",
       "                                               error  \n",
       "0                      [0, 9, 0, 9, 0, 0, 15, 16, 0]  \n",
       "1  [0, 16, 0, 0, 0, 0, 0, 15, 0, 0, 15, 0, 0, 0, ...  \n",
       "2              [0, 0, 0, 0, 15, 0, 0, 0, 0, 0, 0, 0]  \n",
       "3  [0, 0, 0, 0, 0, 0, 9, 0, 0, 0, 0, 0, 0, 0, 0, ...  \n",
       "4                             [0, 15, 0, 0, 0, 0, 0]  "
      ],
      "text/html": "<div>\n<style scoped>\n    .dataframe tbody tr th:only-of-type {\n        vertical-align: middle;\n    }\n\n    .dataframe tbody tr th {\n        vertical-align: top;\n    }\n\n    .dataframe thead th {\n        text-align: right;\n    }\n</style>\n<table border=\"1\" class=\"dataframe\">\n  <thead>\n    <tr style=\"text-align: right;\">\n      <th></th>\n      <th>tid</th>\n      <th>index</th>\n      <th>input</th>\n      <th>output</th>\n      <th>error</th>\n    </tr>\n  </thead>\n  <tbody>\n    <tr>\n      <th>0</th>\n      <td>0</td>\n      <td>0</td>\n      <td>[có, nẽ, đó, nà, một, ngôi, mô, bập, thể]</td>\n      <td>[có, lẽ, đó, là, một, ngôi, mộ, tập, thể]</td>\n      <td>[0, 9, 0, 9, 0, 0, 15, 16, 0]</td>\n    </tr>\n    <tr>\n      <th>1</th>\n      <td>1</td>\n      <td>1</td>\n      <td>[a, pê, an, hy, vọng, sẽ, đạt, đườc, bộ, quy, ...</td>\n      <td>[a, xê, an, hy, vọng, sẽ, đạt, được, bộ, quy, ...</td>\n      <td>[0, 16, 0, 0, 0, 0, 0, 15, 0, 0, 15, 0, 0, 0, ...</td>\n    </tr>\n    <tr>\n      <th>2</th>\n      <td>2</td>\n      <td>2</td>\n      <td>[cả, nước, chỉ, có, haỉ, trăm, ba, mươi, thanh...</td>\n      <td>[cả, nước, chỉ, có, hai, trăm, ba, mươi, thanh...</td>\n      <td>[0, 0, 0, 0, 15, 0, 0, 0, 0, 0, 0, 0]</td>\n    </tr>\n    <tr>\n      <th>3</th>\n      <td>3</td>\n      <td>3</td>\n      <td>[khi, đó, phẩy, em, và, bạn, trạy, theo, phía,...</td>\n      <td>[khi, đó, phẩy, em, và, bạn, chạy, theo, phía,...</td>\n      <td>[0, 0, 0, 0, 0, 0, 9, 0, 0, 0, 0, 0, 0, 0, 0, ...</td>\n    </tr>\n    <tr>\n      <th>4</th>\n      <td>4</td>\n      <td>4</td>\n      <td>[mai, maì, theo, x, ta, pun, xờ]</td>\n      <td>[mai, mai, theo, x, ta, pun, xờ]</td>\n      <td>[0, 15, 0, 0, 0, 0, 0]</td>\n    </tr>\n  </tbody>\n</table>\n</div>"
     },
     "metadata": {},
     "execution_count": 162
    }
   ],
   "source": [
    "added_errors.head()"
   ]
  },
  {
   "cell_type": "code",
   "execution_count": 163,
   "metadata": {},
   "outputs": [],
   "source": [
    "del added_errors['tid']\n",
    "del added_errors['index']\n",
    "del added_errors['error']\n"
   ]
  },
  {
   "cell_type": "code",
   "execution_count": 164,
   "metadata": {},
   "outputs": [
    {
     "output_type": "execute_result",
     "data": {
      "text/plain": [
       "                                               input  \\\n",
       "0          [có, nẽ, đó, nà, một, ngôi, mô, bập, thể]   \n",
       "1  [a, pê, an, hy, vọng, sẽ, đạt, đườc, bộ, quy, ...   \n",
       "2  [cả, nước, chỉ, có, haỉ, trăm, ba, mươi, thanh...   \n",
       "3  [khi, đó, phẩy, em, và, bạn, trạy, theo, phía,...   \n",
       "4                   [mai, maì, theo, x, ta, pun, xờ]   \n",
       "\n",
       "                                              output  \n",
       "0          [có, lẽ, đó, là, một, ngôi, mộ, tập, thể]  \n",
       "1  [a, xê, an, hy, vọng, sẽ, đạt, được, bộ, quy, ...  \n",
       "2  [cả, nước, chỉ, có, hai, trăm, ba, mươi, thanh...  \n",
       "3  [khi, đó, phẩy, em, và, bạn, chạy, theo, phía,...  \n",
       "4                   [mai, mai, theo, x, ta, pun, xờ]  "
      ],
      "text/html": "<div>\n<style scoped>\n    .dataframe tbody tr th:only-of-type {\n        vertical-align: middle;\n    }\n\n    .dataframe tbody tr th {\n        vertical-align: top;\n    }\n\n    .dataframe thead th {\n        text-align: right;\n    }\n</style>\n<table border=\"1\" class=\"dataframe\">\n  <thead>\n    <tr style=\"text-align: right;\">\n      <th></th>\n      <th>input</th>\n      <th>output</th>\n    </tr>\n  </thead>\n  <tbody>\n    <tr>\n      <th>0</th>\n      <td>[có, nẽ, đó, nà, một, ngôi, mô, bập, thể]</td>\n      <td>[có, lẽ, đó, là, một, ngôi, mộ, tập, thể]</td>\n    </tr>\n    <tr>\n      <th>1</th>\n      <td>[a, pê, an, hy, vọng, sẽ, đạt, đườc, bộ, quy, ...</td>\n      <td>[a, xê, an, hy, vọng, sẽ, đạt, được, bộ, quy, ...</td>\n    </tr>\n    <tr>\n      <th>2</th>\n      <td>[cả, nước, chỉ, có, haỉ, trăm, ba, mươi, thanh...</td>\n      <td>[cả, nước, chỉ, có, hai, trăm, ba, mươi, thanh...</td>\n    </tr>\n    <tr>\n      <th>3</th>\n      <td>[khi, đó, phẩy, em, và, bạn, trạy, theo, phía,...</td>\n      <td>[khi, đó, phẩy, em, và, bạn, chạy, theo, phía,...</td>\n    </tr>\n    <tr>\n      <th>4</th>\n      <td>[mai, maì, theo, x, ta, pun, xờ]</td>\n      <td>[mai, mai, theo, x, ta, pun, xờ]</td>\n    </tr>\n  </tbody>\n</table>\n</div>"
     },
     "metadata": {},
     "execution_count": 164
    }
   ],
   "source": [
    "added_errors.head()"
   ]
  },
  {
   "cell_type": "code",
   "execution_count": 165,
   "metadata": {},
   "outputs": [],
   "source": [
    "added_errors_str = added_errors.applymap(lambda l : ' '.join(l))"
   ]
  },
  {
   "cell_type": "code",
   "execution_count": 166,
   "metadata": {},
   "outputs": [
    {
     "output_type": "execute_result",
     "data": {
      "text/plain": [
       "                                                   input  \\\n",
       "89569  ảnh the sun người đàn ông chạy thẳng qua chỗ đ...   \n",
       "89570   cán bộ ngân hàng giúp công ty ở bạc liêu lừa đảo   \n",
       "89571  danh sách các loại ma tuý mới không dừng lại p...   \n",
       "89572  gia đình đã đưa chị đến điều trị tại bệnh viện...   \n",
       "89573  nhóm cướp tiền phẩy vàng ở phú yên có ý định t...   \n",
       "\n",
       "                                                  output  \n",
       "89569  ảnh the sun người đàn ông chạy thẳng qua chỗ đ...  \n",
       "89570   cán bộ ngân hàng giúp công ty ở bạc liêu lừa đảo  \n",
       "89571  danh sách các loại ma tuý mới không dừng lại p...  \n",
       "89572  gia đình đã đưa chị đến điều trị tại bệnh viện...  \n",
       "89573  nhóm cướp tiền phẩy vàng ở phú yên có ý định t...  "
      ],
      "text/html": "<div>\n<style scoped>\n    .dataframe tbody tr th:only-of-type {\n        vertical-align: middle;\n    }\n\n    .dataframe tbody tr th {\n        vertical-align: top;\n    }\n\n    .dataframe thead th {\n        text-align: right;\n    }\n</style>\n<table border=\"1\" class=\"dataframe\">\n  <thead>\n    <tr style=\"text-align: right;\">\n      <th></th>\n      <th>input</th>\n      <th>output</th>\n    </tr>\n  </thead>\n  <tbody>\n    <tr>\n      <th>89569</th>\n      <td>ảnh the sun người đàn ông chạy thẳng qua chỗ đ...</td>\n      <td>ảnh the sun người đàn ông chạy thẳng qua chỗ đ...</td>\n    </tr>\n    <tr>\n      <th>89570</th>\n      <td>cán bộ ngân hàng giúp công ty ở bạc liêu lừa đảo</td>\n      <td>cán bộ ngân hàng giúp công ty ở bạc liêu lừa đảo</td>\n    </tr>\n    <tr>\n      <th>89571</th>\n      <td>danh sách các loại ma tuý mới không dừng lại p...</td>\n      <td>danh sách các loại ma tuý mới không dừng lại p...</td>\n    </tr>\n    <tr>\n      <th>89572</th>\n      <td>gia đình đã đưa chị đến điều trị tại bệnh viện...</td>\n      <td>gia đình đã đưa chị đến điều trị tại bệnh viện...</td>\n    </tr>\n    <tr>\n      <th>89573</th>\n      <td>nhóm cướp tiền phẩy vàng ở phú yên có ý định t...</td>\n      <td>nhóm cướp tiền phẩy vàng ở phú yên có ý định t...</td>\n    </tr>\n  </tbody>\n</table>\n</div>"
     },
     "metadata": {},
     "execution_count": 166
    }
   ],
   "source": [
    "added_errors_str.tail()"
   ]
  },
  {
   "cell_type": "code",
   "execution_count": 167,
   "metadata": {},
   "outputs": [],
   "source": [
    "final_df = pd.DataFrame()"
   ]
  },
  {
   "cell_type": "code",
   "execution_count": 168,
   "metadata": {},
   "outputs": [],
   "source": [
    "final_df['input'] = added_errors_str.input\n",
    "final_df['target'] = df.target"
   ]
  },
  {
   "cell_type": "code",
   "execution_count": 169,
   "metadata": {},
   "outputs": [
    {
     "output_type": "execute_result",
     "data": {
      "text/plain": [
       "89574"
      ]
     },
     "metadata": {},
     "execution_count": 169
    }
   ],
   "source": [
    "len(final_df)"
   ]
  },
  {
   "cell_type": "code",
   "execution_count": 170,
   "metadata": {},
   "outputs": [],
   "source": [
    "final_df.to_csv(os.path.join(path, 'final_data.csv'), index=False)"
   ]
  },
  {
   "cell_type": "code",
   "execution_count": 171,
   "metadata": {},
   "outputs": [],
   "source": [
    "final_df = pd.read_csv(os.path.join(path, 'final_data.csv'))"
   ]
  },
  {
   "cell_type": "code",
   "execution_count": 172,
   "metadata": {},
   "outputs": [
    {
     "output_type": "execute_result",
     "data": {
      "text/plain": [
       "                                                   input  \\\n",
       "89569  ảnh the sun người đàn ông chạy thẳng qua chỗ đ...   \n",
       "89570   cán bộ ngân hàng giúp công ty ở bạc liêu lừa đảo   \n",
       "89571  danh sách các loại ma tuý mới không dừng lại p...   \n",
       "89572  gia đình đã đưa chị đến điều trị tại bệnh viện...   \n",
       "89573  nhóm cướp tiền phẩy vàng ở phú yên có ý định t...   \n",
       "\n",
       "                                                  target  \n",
       "89569  ảnh the sun người đàn ông chạy thẳng qua chỗ đ...  \n",
       "89570   cán bộ ngân hàng giúp công ty ở bạc liêu lừa đảo  \n",
       "89571  danh sách các loại ma túy mới không dừng lại p...  \n",
       "89572  gia đình đã đưa chị đến điều trị tại bệnh viện...  \n",
       "89573  nhóm cướp tiền phẩy vàng ở phú yên có ý định t...  "
      ],
      "text/html": "<div>\n<style scoped>\n    .dataframe tbody tr th:only-of-type {\n        vertical-align: middle;\n    }\n\n    .dataframe tbody tr th {\n        vertical-align: top;\n    }\n\n    .dataframe thead th {\n        text-align: right;\n    }\n</style>\n<table border=\"1\" class=\"dataframe\">\n  <thead>\n    <tr style=\"text-align: right;\">\n      <th></th>\n      <th>input</th>\n      <th>target</th>\n    </tr>\n  </thead>\n  <tbody>\n    <tr>\n      <th>89569</th>\n      <td>ảnh the sun người đàn ông chạy thẳng qua chỗ đ...</td>\n      <td>ảnh the sun người đàn ông chạy thẳng qua chỗ đ...</td>\n    </tr>\n    <tr>\n      <th>89570</th>\n      <td>cán bộ ngân hàng giúp công ty ở bạc liêu lừa đảo</td>\n      <td>cán bộ ngân hàng giúp công ty ở bạc liêu lừa đảo</td>\n    </tr>\n    <tr>\n      <th>89571</th>\n      <td>danh sách các loại ma tuý mới không dừng lại p...</td>\n      <td>danh sách các loại ma túy mới không dừng lại p...</td>\n    </tr>\n    <tr>\n      <th>89572</th>\n      <td>gia đình đã đưa chị đến điều trị tại bệnh viện...</td>\n      <td>gia đình đã đưa chị đến điều trị tại bệnh viện...</td>\n    </tr>\n    <tr>\n      <th>89573</th>\n      <td>nhóm cướp tiền phẩy vàng ở phú yên có ý định t...</td>\n      <td>nhóm cướp tiền phẩy vàng ở phú yên có ý định t...</td>\n    </tr>\n  </tbody>\n</table>\n</div>"
     },
     "metadata": {},
     "execution_count": 172
    }
   ],
   "source": [
    "final_df.tail()"
   ]
  },
  {
   "cell_type": "code",
   "execution_count": 173,
   "metadata": {},
   "outputs": [],
   "source": [
    "num_sentences = len(final_df)\n",
    "val = final_df.iloc[0:4096]\n",
    "train = final_df.iloc[4096:]"
   ]
  },
  {
   "cell_type": "code",
   "execution_count": 174,
   "metadata": {},
   "outputs": [
    {
     "output_type": "execute_result",
     "data": {
      "text/plain": [
       "                                               input  \\\n",
       "0                    có nẽ đó nà một ngôi mô bập thể   \n",
       "1  a pê an hy vọng sẽ đạt đườc bộ quy tăc ứng xử ...   \n",
       "2     cả nước chỉ có haỉ trăm ba mươi thanh tra y tế   \n",
       "3  khi đó phẩy em và bạn trạy theo phía sau bị hơ...   \n",
       "4                           mai maì theo x ta pun xờ   \n",
       "\n",
       "                                              target  \n",
       "0                    có lẽ đó là một ngôi mộ tập thể  \n",
       "1  asean hy vọng sẽ đạt được bộ quy tắc ứng xử bi...  \n",
       "2     cả nước chỉ có hai trăm ba mươi thanh tra y tế  \n",
       "3  khi đó phẩy em và bạn chạy theo phía sau bị hơ...  \n",
       "4                            mai mai theo star pulse  "
      ],
      "text/html": "<div>\n<style scoped>\n    .dataframe tbody tr th:only-of-type {\n        vertical-align: middle;\n    }\n\n    .dataframe tbody tr th {\n        vertical-align: top;\n    }\n\n    .dataframe thead th {\n        text-align: right;\n    }\n</style>\n<table border=\"1\" class=\"dataframe\">\n  <thead>\n    <tr style=\"text-align: right;\">\n      <th></th>\n      <th>input</th>\n      <th>target</th>\n    </tr>\n  </thead>\n  <tbody>\n    <tr>\n      <th>0</th>\n      <td>có nẽ đó nà một ngôi mô bập thể</td>\n      <td>có lẽ đó là một ngôi mộ tập thể</td>\n    </tr>\n    <tr>\n      <th>1</th>\n      <td>a pê an hy vọng sẽ đạt đườc bộ quy tăc ứng xử ...</td>\n      <td>asean hy vọng sẽ đạt được bộ quy tắc ứng xử bi...</td>\n    </tr>\n    <tr>\n      <th>2</th>\n      <td>cả nước chỉ có haỉ trăm ba mươi thanh tra y tế</td>\n      <td>cả nước chỉ có hai trăm ba mươi thanh tra y tế</td>\n    </tr>\n    <tr>\n      <th>3</th>\n      <td>khi đó phẩy em và bạn trạy theo phía sau bị hơ...</td>\n      <td>khi đó phẩy em và bạn chạy theo phía sau bị hơ...</td>\n    </tr>\n    <tr>\n      <th>4</th>\n      <td>mai maì theo x ta pun xờ</td>\n      <td>mai mai theo star pulse</td>\n    </tr>\n  </tbody>\n</table>\n</div>"
     },
     "metadata": {},
     "execution_count": 174
    }
   ],
   "source": [
    "val.head()"
   ]
  },
  {
   "cell_type": "code",
   "execution_count": 175,
   "metadata": {},
   "outputs": [
    {
     "output_type": "execute_result",
     "data": {
      "text/plain": [
       "                                                  input  \\\n",
       "4096  xuyến đã soạn thảo các thủ tục để xuất lậu một...   \n",
       "4097  đây nà loại máy bay ném bom chiền lược phẩy ba...   \n",
       "4098  đúng lúc đó phẩy xe buýt mang bê ca ét x hai m...   \n",
       "4099  đọ súng ác liệt đã nổ ra trong vụ vây ráp phây...   \n",
       "4100                                   mhồng cu bã huện   \n",
       "\n",
       "                                                 target  \n",
       "4096  xuyến đã soạn thảo các thủ tục để xuất lậu một...  \n",
       "4097  đây là loại máy bay ném bom chiến lược phẩy ba...  \n",
       "4098  đúng lúc đó phẩy xe buýt mang bks hai mươi chí...  \n",
       "4099  đọ súng ác liệt đã nổ ra trong vụ vây ráp phẩy...  \n",
       "4100                                      chồng cũ bà h  "
      ],
      "text/html": "<div>\n<style scoped>\n    .dataframe tbody tr th:only-of-type {\n        vertical-align: middle;\n    }\n\n    .dataframe tbody tr th {\n        vertical-align: top;\n    }\n\n    .dataframe thead th {\n        text-align: right;\n    }\n</style>\n<table border=\"1\" class=\"dataframe\">\n  <thead>\n    <tr style=\"text-align: right;\">\n      <th></th>\n      <th>input</th>\n      <th>target</th>\n    </tr>\n  </thead>\n  <tbody>\n    <tr>\n      <th>4096</th>\n      <td>xuyến đã soạn thảo các thủ tục để xuất lậu một...</td>\n      <td>xuyến đã soạn thảo các thủ tục để xuất lậu một...</td>\n    </tr>\n    <tr>\n      <th>4097</th>\n      <td>đây nà loại máy bay ném bom chiền lược phẩy ba...</td>\n      <td>đây là loại máy bay ném bom chiến lược phẩy ba...</td>\n    </tr>\n    <tr>\n      <th>4098</th>\n      <td>đúng lúc đó phẩy xe buýt mang bê ca ét x hai m...</td>\n      <td>đúng lúc đó phẩy xe buýt mang bks hai mươi chí...</td>\n    </tr>\n    <tr>\n      <th>4099</th>\n      <td>đọ súng ác liệt đã nổ ra trong vụ vây ráp phây...</td>\n      <td>đọ súng ác liệt đã nổ ra trong vụ vây ráp phẩy...</td>\n    </tr>\n    <tr>\n      <th>4100</th>\n      <td>mhồng cu bã huện</td>\n      <td>chồng cũ bà h</td>\n    </tr>\n  </tbody>\n</table>\n</div>"
     },
     "metadata": {},
     "execution_count": 175
    }
   ],
   "source": [
    "train.head()"
   ]
  },
  {
   "cell_type": "code",
   "execution_count": 176,
   "metadata": {},
   "outputs": [
    {
     "output_type": "stream",
     "name": "stdout",
     "text": [
      "val saved\ntrain saved\n"
     ]
    }
   ],
   "source": [
    "if not os.path.exists(os.path.join(path, 'val.csv')):\n",
    "    print('val saved')\n",
    "    val.to_csv(os.path.join(path,'val.csv'), index=False)\n",
    "# test.to_csv('/home3/phungqv/data_generate/data/test.csv', index=False)\n",
    "if not os.path.exists(os.path.join(path, 'train.csv')):\n",
    "    print('train saved')\n",
    "    train.to_csv(os.path.join(path, 'train.csv'), index=False)\n"
   ]
  },
  {
   "source": [
    "## Process human labeled data"
   ],
   "cell_type": "markdown",
   "metadata": {}
  },
  {
   "cell_type": "code",
   "execution_count": 99,
   "metadata": {},
   "outputs": [],
   "source": [
    "f1 = '/home3/cuongld/ASR_team/data_ASR/vietnamese_dataset/transcript_normalize/conversation'\n",
    "f2 = '/home3/cuongld/ASR_team/data_ASR/vietnamese_dataset/QA/data.csv'"
   ]
  },
  {
   "cell_type": "code",
   "execution_count": 130,
   "metadata": {},
   "outputs": [
    {
     "output_type": "stream",
     "name": "stdout",
     "text": [
      "4465\n5353\n6317\n"
     ]
    }
   ],
   "source": [
    "type = ['train', 'valid', 'test']\n",
    "final_df = pd.DataFrame(columns=['input', 'target'])\n",
    "for t in type:\n",
    "    file_path = os.path.join(f1, f'thu_am_{t}.csv')\n",
    "    norm_path = os.path.join(f1, f'thu_am_{t}.csv.norm')\n",
    "\n",
    "    fine_df = pd.read_csv(file_path)\n",
    "    del fine_df['duration']\n",
    "    fine_df.columns = ['path', 'target']\n",
    "\n",
    "    dic1 = {'input':[], 'path':[]}\n",
    "    with open(norm_path) as data:\n",
    "        first = True\n",
    "        for line in data:\n",
    "            if first:\n",
    "                first = False\n",
    "                continue\n",
    "            line = line.split('\t')\n",
    "\n",
    "            dic1['input'].append(line[1])\n",
    "            dic1['path'].append(line[0])\n",
    "\n",
    "    temp_df = pd.DataFrame(dic1)\n",
    "    fine_df = temp_df.merge(fine_df, left_on='path', right_on='path', how='inner')\n",
    "    del fine_df['path']\n",
    "    final_df = pd.concat([final_df, fine_df], ignore_index=True)\n",
    "    print(len(final_df))\n",
    "\n",
    "final_df = final_df.applymap(lambda s : s.strip())\n"
   ]
  },
  {
   "cell_type": "code",
   "execution_count": 131,
   "metadata": {},
   "outputs": [
    {
     "output_type": "stream",
     "name": "stdout",
     "text": [
      "asr_slu exported\n"
     ]
    }
   ],
   "source": [
    "if not os.path.exists('/home3/phungqv/data_generate/data/finetune/raw/asr_slu.csv'):\n",
    "    print('asr_slu exported')\n",
    "    final_df.to_csv('/home3/phungqv/data_generate/data/finetune/raw/asr_slu.csv', index=False)"
   ]
  },
  {
   "cell_type": "code",
   "execution_count": 125,
   "metadata": {
    "tags": []
   },
   "outputs": [],
   "source": [
    "dic2 = {'input':[], 'target':[]}\n",
    "with open(f2) as data:\n",
    "    first = True\n",
    "    for line in data:\n",
    "        if first:\n",
    "            first = False\n",
    "            continue\n",
    "        line = line.split('\t')\n",
    "        try:\n",
    "            dic2['input'].append(line[2])\n",
    "            dic2['target'].append(line[1])\n",
    "        except:\n",
    "            print(line)\n",
    "            break\n"
   ]
  },
  {
   "cell_type": "code",
   "execution_count": 133,
   "metadata": {},
   "outputs": [],
   "source": [
    "qna_df = pd.DataFrame(dic2)\n",
    "qna_df = qna_df.applymap(lambda s : s.strip())"
   ]
  },
  {
   "cell_type": "code",
   "execution_count": 136,
   "metadata": {},
   "outputs": [
    {
     "output_type": "stream",
     "name": "stdout",
     "text": [
      "qna exported\n"
     ]
    }
   ],
   "source": [
    "if not os.path.exists('/home3/phungqv/data_generate/data/finetune/raw/qna.csv'):\n",
    "    print('qna exported')\n",
    "    qna_df.to_csv('/home3/phungqv/data_generate/data/finetune/raw/qua.csv', index=False)"
   ]
  },
  {
   "cell_type": "code",
   "execution_count": 142,
   "metadata": {},
   "outputs": [],
   "source": [
    "asr_slu = pd.read_csv('/home3/phungqv/data_generate/data/finetune/raw/asr_slu.csv')\n",
    "qna = pd.read_csv('/home3/phungqv/data_generate/data/finetune/raw/qua.csv')"
   ]
  },
  {
   "cell_type": "code",
   "execution_count": 143,
   "metadata": {},
   "outputs": [
    {
     "output_type": "execute_result",
     "data": {
      "text/plain": [
       "                                               input  \\\n",
       "0  em đang sử dụng nhóm thẻ ji xê bê và hình thức...   \n",
       "1  tuyệt vời quá cảm ơn em nhé chúc em một buổi t...   \n",
       "2                                         cảm ơn bạn   \n",
       "3  bên mình có hình thức vay thế chấp vay tín chấ...   \n",
       "4  chào bạn mình muốn chạy thử tính năng dịch vụ ...   \n",
       "\n",
       "                                              target  \n",
       "0  em đang sử dụng nhóm thẻ jcb và hình thức thẻ ...  \n",
       "1  tuyệt vời quá cảm ơn em nhé chúc em một buổi t...  \n",
       "2                                         cảm ơn bạn  \n",
       "3  bên mình có hình thức vay thế chấp vay tín chấ...  \n",
       "4  chào bạn mình muốn chạy thử tính năng dịch vụ ...  "
      ],
      "text/html": "<div>\n<style scoped>\n    .dataframe tbody tr th:only-of-type {\n        vertical-align: middle;\n    }\n\n    .dataframe tbody tr th {\n        vertical-align: top;\n    }\n\n    .dataframe thead th {\n        text-align: right;\n    }\n</style>\n<table border=\"1\" class=\"dataframe\">\n  <thead>\n    <tr style=\"text-align: right;\">\n      <th></th>\n      <th>input</th>\n      <th>target</th>\n    </tr>\n  </thead>\n  <tbody>\n    <tr>\n      <th>0</th>\n      <td>em đang sử dụng nhóm thẻ ji xê bê và hình thức...</td>\n      <td>em đang sử dụng nhóm thẻ jcb và hình thức thẻ ...</td>\n    </tr>\n    <tr>\n      <th>1</th>\n      <td>tuyệt vời quá cảm ơn em nhé chúc em một buổi t...</td>\n      <td>tuyệt vời quá cảm ơn em nhé chúc em một buổi t...</td>\n    </tr>\n    <tr>\n      <th>2</th>\n      <td>cảm ơn bạn</td>\n      <td>cảm ơn bạn</td>\n    </tr>\n    <tr>\n      <th>3</th>\n      <td>bên mình có hình thức vay thế chấp vay tín chấ...</td>\n      <td>bên mình có hình thức vay thế chấp vay tín chấ...</td>\n    </tr>\n    <tr>\n      <th>4</th>\n      <td>chào bạn mình muốn chạy thử tính năng dịch vụ ...</td>\n      <td>chào bạn mình muốn chạy thử tính năng dịch vụ ...</td>\n    </tr>\n  </tbody>\n</table>\n</div>"
     },
     "metadata": {},
     "execution_count": 143
    }
   ],
   "source": [
    "asr_slu.head()"
   ]
  },
  {
   "cell_type": "code",
   "execution_count": 144,
   "metadata": {},
   "outputs": [
    {
     "output_type": "execute_result",
     "data": {
      "text/plain": [
       "                                               input  \\\n",
       "0                                    a lô một hai ba   \n",
       "1  mình cần hỏi ai để được tư vấn về vấn đề an to...   \n",
       "2                               au đi ô này hỏng này   \n",
       "3                           mếch in việt nam là gì ạ   \n",
       "4  bạn chưa rõ đâu là sự khác nhau giữa chuyển đổ...   \n",
       "\n",
       "                                              target  \n",
       "0                                          alo 1 2 3  \n",
       "1  mình cần hỏi ai để được tư vấn về vấn đề an to...  \n",
       "2                                 audio này hỏng này  \n",
       "3                            make in Vietnam là gì ạ  \n",
       "4  bạn chưa rõ đâu là sự khác nhau giữa chuyển đổ...  "
      ],
      "text/html": "<div>\n<style scoped>\n    .dataframe tbody tr th:only-of-type {\n        vertical-align: middle;\n    }\n\n    .dataframe tbody tr th {\n        vertical-align: top;\n    }\n\n    .dataframe thead th {\n        text-align: right;\n    }\n</style>\n<table border=\"1\" class=\"dataframe\">\n  <thead>\n    <tr style=\"text-align: right;\">\n      <th></th>\n      <th>input</th>\n      <th>target</th>\n    </tr>\n  </thead>\n  <tbody>\n    <tr>\n      <th>0</th>\n      <td>a lô một hai ba</td>\n      <td>alo 1 2 3</td>\n    </tr>\n    <tr>\n      <th>1</th>\n      <td>mình cần hỏi ai để được tư vấn về vấn đề an to...</td>\n      <td>mình cần hỏi ai để được tư vấn về vấn đề an to...</td>\n    </tr>\n    <tr>\n      <th>2</th>\n      <td>au đi ô này hỏng này</td>\n      <td>audio này hỏng này</td>\n    </tr>\n    <tr>\n      <th>3</th>\n      <td>mếch in việt nam là gì ạ</td>\n      <td>make in Vietnam là gì ạ</td>\n    </tr>\n    <tr>\n      <th>4</th>\n      <td>bạn chưa rõ đâu là sự khác nhau giữa chuyển đổ...</td>\n      <td>bạn chưa rõ đâu là sự khác nhau giữa chuyển đổ...</td>\n    </tr>\n  </tbody>\n</table>\n</div>"
     },
     "metadata": {},
     "execution_count": 144
    }
   ],
   "source": [
    "qna.head()"
   ]
  },
  {
   "cell_type": "code",
   "execution_count": 145,
   "metadata": {},
   "outputs": [],
   "source": [
    "fine_tune_df = pd.concat([asr_slu, qna], ignore_index=True)"
   ]
  },
  {
   "cell_type": "code",
   "execution_count": 147,
   "metadata": {},
   "outputs": [
    {
     "output_type": "execute_result",
     "data": {
      "text/plain": [
       "                                               input  \\\n",
       "0  em đang sử dụng nhóm thẻ ji xê bê và hình thức...   \n",
       "1  tuyệt vời quá cảm ơn em nhé chúc em một buổi t...   \n",
       "2                                         cảm ơn bạn   \n",
       "3  bên mình có hình thức vay thế chấp vay tín chấ...   \n",
       "4  chào bạn mình muốn chạy thử tính năng dịch vụ ...   \n",
       "\n",
       "                                              target  \n",
       "0  em đang sử dụng nhóm thẻ jcb và hình thức thẻ ...  \n",
       "1  tuyệt vời quá cảm ơn em nhé chúc em một buổi t...  \n",
       "2                                         cảm ơn bạn  \n",
       "3  bên mình có hình thức vay thế chấp vay tín chấ...  \n",
       "4  chào bạn mình muốn chạy thử tính năng dịch vụ ...  "
      ],
      "text/html": "<div>\n<style scoped>\n    .dataframe tbody tr th:only-of-type {\n        vertical-align: middle;\n    }\n\n    .dataframe tbody tr th {\n        vertical-align: top;\n    }\n\n    .dataframe thead th {\n        text-align: right;\n    }\n</style>\n<table border=\"1\" class=\"dataframe\">\n  <thead>\n    <tr style=\"text-align: right;\">\n      <th></th>\n      <th>input</th>\n      <th>target</th>\n    </tr>\n  </thead>\n  <tbody>\n    <tr>\n      <th>0</th>\n      <td>em đang sử dụng nhóm thẻ ji xê bê và hình thức...</td>\n      <td>em đang sử dụng nhóm thẻ jcb và hình thức thẻ ...</td>\n    </tr>\n    <tr>\n      <th>1</th>\n      <td>tuyệt vời quá cảm ơn em nhé chúc em một buổi t...</td>\n      <td>tuyệt vời quá cảm ơn em nhé chúc em một buổi t...</td>\n    </tr>\n    <tr>\n      <th>2</th>\n      <td>cảm ơn bạn</td>\n      <td>cảm ơn bạn</td>\n    </tr>\n    <tr>\n      <th>3</th>\n      <td>bên mình có hình thức vay thế chấp vay tín chấ...</td>\n      <td>bên mình có hình thức vay thế chấp vay tín chấ...</td>\n    </tr>\n    <tr>\n      <th>4</th>\n      <td>chào bạn mình muốn chạy thử tính năng dịch vụ ...</td>\n      <td>chào bạn mình muốn chạy thử tính năng dịch vụ ...</td>\n    </tr>\n  </tbody>\n</table>\n</div>"
     },
     "metadata": {},
     "execution_count": 147
    }
   ],
   "source": [
    "fine_tune_df.head()"
   ]
  },
  {
   "cell_type": "code",
   "execution_count": 177,
   "metadata": {},
   "outputs": [],
   "source": [
    "def process_fine_tune(s):\n",
    "    number = re.compile(r'(0|1|2|3|4|5|6|7|7|8|9)+')\n",
    "\n",
    "    def num_to_word(match):\n",
    "        result = vietnam_number.n2w(match.group(0)) + ' '\n",
    "        return result.replace('lẽ', 'linh')\n",
    "    \n",
    "    s = s.strip()\n",
    "    s = s.replace('$', ' đô la ')\n",
    "    s = s.replace(',', ' phẩy ')\n",
    "    s = s.replace('%', ' phần trăm ')\n",
    "    s = s.replace('@', ' a còng ')\n",
    "    s = s.replace('+' , ' cộng ')\n",
    "\n",
    "    s = re.sub(number, num_to_word, s)      #for converting numbers\n",
    "\n",
    "    s = s.translate(str.maketrans(punctuation, ' '*len(punctuation)))\n",
    "    s = ' '.join(s.split())\n",
    "\n",
    "    return s\n",
    "    "
   ]
  },
  {
   "cell_type": "code",
   "execution_count": 179,
   "metadata": {},
   "outputs": [],
   "source": [
    "fine_tune_df = fine_tune_df.applymap(process_fine_tune)"
   ]
  },
  {
   "cell_type": "code",
   "execution_count": 181,
   "metadata": {},
   "outputs": [],
   "source": [
    "fine_tune_df.to_csv('/home3/phungqv/data_generate/data/finetune/number_converted/processed.csv', index=False)"
   ]
  },
  {
   "cell_type": "code",
   "execution_count": 18,
   "metadata": {},
   "outputs": [],
   "source": [
    "df = pd.read_csv('/home3/thanhpv/generated.csv')"
   ]
  },
  {
   "cell_type": "code",
   "execution_count": 19,
   "metadata": {},
   "outputs": [],
   "source": [
    "del df['path']"
   ]
  },
  {
   "cell_type": "code",
   "execution_count": 20,
   "metadata": {},
   "outputs": [
    {
     "output_type": "execute_result",
     "data": {
      "text/plain": [
       "                                                 goc  \\\n",
       "0            đó xong rồi dần dần rồi bắt đầu qua lại   \n",
       "1  à chị nghĩ là cái món này à cái việc nó cũng n...   \n",
       "2  tổng cái số giờ bay theo chúng tôi thống kê đư...   \n",
       "3          cái thứ hai á là cái quy định hiện nay là   \n",
       "4  bạn cũng đề nghị là ban biên tập có thư gửi bà...   \n",
       "5  giúp chúng ta biết kiểm soát được đồng tiền mà...   \n",
       "6  từ đầu chương trình đến giờ thì nói đến hai ng...   \n",
       "7  thế là là là là cái thương hiệu cho công ty có...   \n",
       "8  cái tôi cái cá nhân trong thiết kế của các bạn...   \n",
       "9  mặc dù xét về tính chuyên nghiệp những đầu bếp...   \n",
       "\n",
       "                                            infer_ra  \n",
       "0              đó xong mà dần dần rồi mới là qua lại  \n",
       "1  à trỷ nghĩ là cái món này ờ cái vị nó cũng ngo...  \n",
       "2  tổng cái số giờ bay theo chúng tôi thống kê đư...  \n",
       "3          cái thứ hai á là cái quy định hiện nay là  \n",
       "4  bạn cũng đề nghị là ban biên tập có thư gửi bà...  \n",
       "5  chức chúng ta biết kiểm soát được đồng tiền mà...  \n",
       "6  từ đầu chương trình đến giờ thì nói đến hai ng...  \n",
       "7  ý là là là là cái thương hiệu cho công ty của ...  \n",
       "8  cái tôi cái cá nhân trong thiết kế của các bạn...  \n",
       "9  mặc dù xét về tiếng chuyên nghiệp những đầu bế...  "
      ],
      "text/html": "<div>\n<style scoped>\n    .dataframe tbody tr th:only-of-type {\n        vertical-align: middle;\n    }\n\n    .dataframe tbody tr th {\n        vertical-align: top;\n    }\n\n    .dataframe thead th {\n        text-align: right;\n    }\n</style>\n<table border=\"1\" class=\"dataframe\">\n  <thead>\n    <tr style=\"text-align: right;\">\n      <th></th>\n      <th>goc</th>\n      <th>infer_ra</th>\n    </tr>\n  </thead>\n  <tbody>\n    <tr>\n      <th>0</th>\n      <td>đó xong rồi dần dần rồi bắt đầu qua lại</td>\n      <td>đó xong mà dần dần rồi mới là qua lại</td>\n    </tr>\n    <tr>\n      <th>1</th>\n      <td>à chị nghĩ là cái món này à cái việc nó cũng n...</td>\n      <td>à trỷ nghĩ là cái món này ờ cái vị nó cũng ngo...</td>\n    </tr>\n    <tr>\n      <th>2</th>\n      <td>tổng cái số giờ bay theo chúng tôi thống kê đư...</td>\n      <td>tổng cái số giờ bay theo chúng tôi thống kê đư...</td>\n    </tr>\n    <tr>\n      <th>3</th>\n      <td>cái thứ hai á là cái quy định hiện nay là</td>\n      <td>cái thứ hai á là cái quy định hiện nay là</td>\n    </tr>\n    <tr>\n      <th>4</th>\n      <td>bạn cũng đề nghị là ban biên tập có thư gửi bà...</td>\n      <td>bạn cũng đề nghị là ban biên tập có thư gửi bà...</td>\n    </tr>\n    <tr>\n      <th>5</th>\n      <td>giúp chúng ta biết kiểm soát được đồng tiền mà...</td>\n      <td>chức chúng ta biết kiểm soát được đồng tiền mà...</td>\n    </tr>\n    <tr>\n      <th>6</th>\n      <td>từ đầu chương trình đến giờ thì nói đến hai ng...</td>\n      <td>từ đầu chương trình đến giờ thì nói đến hai ng...</td>\n    </tr>\n    <tr>\n      <th>7</th>\n      <td>thế là là là là cái thương hiệu cho công ty có...</td>\n      <td>ý là là là là cái thương hiệu cho công ty của ...</td>\n    </tr>\n    <tr>\n      <th>8</th>\n      <td>cái tôi cái cá nhân trong thiết kế của các bạn...</td>\n      <td>cái tôi cái cá nhân trong thiết kế của các bạn...</td>\n    </tr>\n    <tr>\n      <th>9</th>\n      <td>mặc dù xét về tính chuyên nghiệp những đầu bếp...</td>\n      <td>mặc dù xét về tiếng chuyên nghiệp những đầu bế...</td>\n    </tr>\n  </tbody>\n</table>\n</div>"
     },
     "metadata": {},
     "execution_count": 20
    }
   ],
   "source": [
    "df.head(10)"
   ]
  },
  {
   "cell_type": "code",
   "execution_count": 21,
   "metadata": {},
   "outputs": [],
   "source": [
    "df.columns = ['target', 'input']"
   ]
  },
  {
   "cell_type": "code",
   "execution_count": 22,
   "metadata": {},
   "outputs": [
    {
     "output_type": "execute_result",
     "data": {
      "text/plain": [
       "                                              target  \\\n",
       "0            đó xong rồi dần dần rồi bắt đầu qua lại   \n",
       "1  à chị nghĩ là cái món này à cái việc nó cũng n...   \n",
       "2  tổng cái số giờ bay theo chúng tôi thống kê đư...   \n",
       "3          cái thứ hai á là cái quy định hiện nay là   \n",
       "4  bạn cũng đề nghị là ban biên tập có thư gửi bà...   \n",
       "\n",
       "                                               input  \n",
       "0              đó xong mà dần dần rồi mới là qua lại  \n",
       "1  à trỷ nghĩ là cái món này ờ cái vị nó cũng ngo...  \n",
       "2  tổng cái số giờ bay theo chúng tôi thống kê đư...  \n",
       "3          cái thứ hai á là cái quy định hiện nay là  \n",
       "4  bạn cũng đề nghị là ban biên tập có thư gửi bà...  "
      ],
      "text/html": "<div>\n<style scoped>\n    .dataframe tbody tr th:only-of-type {\n        vertical-align: middle;\n    }\n\n    .dataframe tbody tr th {\n        vertical-align: top;\n    }\n\n    .dataframe thead th {\n        text-align: right;\n    }\n</style>\n<table border=\"1\" class=\"dataframe\">\n  <thead>\n    <tr style=\"text-align: right;\">\n      <th></th>\n      <th>target</th>\n      <th>input</th>\n    </tr>\n  </thead>\n  <tbody>\n    <tr>\n      <th>0</th>\n      <td>đó xong rồi dần dần rồi bắt đầu qua lại</td>\n      <td>đó xong mà dần dần rồi mới là qua lại</td>\n    </tr>\n    <tr>\n      <th>1</th>\n      <td>à chị nghĩ là cái món này à cái việc nó cũng n...</td>\n      <td>à trỷ nghĩ là cái món này ờ cái vị nó cũng ngo...</td>\n    </tr>\n    <tr>\n      <th>2</th>\n      <td>tổng cái số giờ bay theo chúng tôi thống kê đư...</td>\n      <td>tổng cái số giờ bay theo chúng tôi thống kê đư...</td>\n    </tr>\n    <tr>\n      <th>3</th>\n      <td>cái thứ hai á là cái quy định hiện nay là</td>\n      <td>cái thứ hai á là cái quy định hiện nay là</td>\n    </tr>\n    <tr>\n      <th>4</th>\n      <td>bạn cũng đề nghị là ban biên tập có thư gửi bà...</td>\n      <td>bạn cũng đề nghị là ban biên tập có thư gửi bà...</td>\n    </tr>\n  </tbody>\n</table>\n</div>"
     },
     "metadata": {},
     "execution_count": 22
    }
   ],
   "source": [
    "df.head()"
   ]
  },
  {
   "cell_type": "code",
   "execution_count": 23,
   "metadata": {},
   "outputs": [],
   "source": [
    "df = df.sample(frac = 1).reset_index(drop=True)\n"
   ]
  },
  {
   "cell_type": "code",
   "execution_count": 24,
   "metadata": {},
   "outputs": [
    {
     "output_type": "execute_result",
     "data": {
      "text/plain": [
       "                                              target  \\\n",
       "0                 cũng sẽ cố gắng tạo thêm điều kiện   \n",
       "1  ờ đồng ý nhưng mà không biết phải nói như thế ...   \n",
       "2    chiều nếu anh sắp xếp thời gian cho em á anh sẽ   \n",
       "3                         em bé ngậm hai viên kẹo và   \n",
       "4  nhưng khi đụng phải mẫu anh và hắn đã có một n...   \n",
       "\n",
       "                                               input  \n",
       "0                 cũng sẽ cố gắng tạo thêm điều kiện  \n",
       "1  ờ đồng ý nhưng mà không biết phải nói như thế ...  \n",
       "2    chiều nếu anh sắp xếp thời gian cho em á anh sẽ  \n",
       "3                        em bé nhẳn hai diêng kẹo và  \n",
       "4  nhưng khi đụ phải máu anh và hàng thủ đã có mộ...  "
      ],
      "text/html": "<div>\n<style scoped>\n    .dataframe tbody tr th:only-of-type {\n        vertical-align: middle;\n    }\n\n    .dataframe tbody tr th {\n        vertical-align: top;\n    }\n\n    .dataframe thead th {\n        text-align: right;\n    }\n</style>\n<table border=\"1\" class=\"dataframe\">\n  <thead>\n    <tr style=\"text-align: right;\">\n      <th></th>\n      <th>target</th>\n      <th>input</th>\n    </tr>\n  </thead>\n  <tbody>\n    <tr>\n      <th>0</th>\n      <td>cũng sẽ cố gắng tạo thêm điều kiện</td>\n      <td>cũng sẽ cố gắng tạo thêm điều kiện</td>\n    </tr>\n    <tr>\n      <th>1</th>\n      <td>ờ đồng ý nhưng mà không biết phải nói như thế ...</td>\n      <td>ờ đồng ý nhưng mà không biết phải nói như thế ...</td>\n    </tr>\n    <tr>\n      <th>2</th>\n      <td>chiều nếu anh sắp xếp thời gian cho em á anh sẽ</td>\n      <td>chiều nếu anh sắp xếp thời gian cho em á anh sẽ</td>\n    </tr>\n    <tr>\n      <th>3</th>\n      <td>em bé ngậm hai viên kẹo và</td>\n      <td>em bé nhẳn hai diêng kẹo và</td>\n    </tr>\n    <tr>\n      <th>4</th>\n      <td>nhưng khi đụng phải mẫu anh và hắn đã có một n...</td>\n      <td>nhưng khi đụ phải máu anh và hàng thủ đã có mộ...</td>\n    </tr>\n  </tbody>\n</table>\n</div>"
     },
     "metadata": {},
     "execution_count": 24
    }
   ],
   "source": [
    "df.head()"
   ]
  },
  {
   "cell_type": "code",
   "execution_count": 26,
   "metadata": {},
   "outputs": [],
   "source": [
    "val = df.iloc[0:2048]\n",
    "test = df.iloc[2048:7000]\n",
    "train = df.iloc[7000:]"
   ]
  },
  {
   "cell_type": "code",
   "execution_count": 27,
   "metadata": {},
   "outputs": [],
   "source": [
    "val.to_csv('/home3/phungqv/data_generate/data/finetune/val.csv', index=False)\n",
    "test.to_csv('/home3/phungqv/data_generate/data/finetune/test.csv', index=False)\n",
    "train.to_csv('/home3/phungqv/data_generate/data/finetune/train.csv', index=False)"
   ]
  },
  {
   "cell_type": "code",
   "execution_count": 28,
   "metadata": {},
   "outputs": [],
   "source": [
    "train = pd.read_csv('/home3/phungqv/data_generate/data/finetune/train.csv')"
   ]
  },
  {
   "cell_type": "code",
   "execution_count": 29,
   "metadata": {},
   "outputs": [
    {
     "output_type": "execute_result",
     "data": {
      "text/plain": [
       "                                              target  \\\n",
       "0  các ông bố đi quanh phố cổ và mời bà con du kh...   \n",
       "1                              sống như vợ chồng hẳn   \n",
       "2  trở nổi luôn hả dạ có bao giờ gặp ông nào xỉn ...   \n",
       "3  là một người việt sống ở một nước tư bản nơi m...   \n",
       "4  gạch lót bị tróc từng mảng kéo dài suốt con đường   \n",
       "\n",
       "                                               input  \n",
       "0  các ông bố đi quanh phố cổ và mời bà con du kh...  \n",
       "1                         sống như vợ chồng ở hà nội  \n",
       "2   tử nổi luôn hảdạ có bao giờ gặp ông nào xỉn chưa  \n",
       "3  là một người việt sống ở một nước tư bản nơi m...  \n",
       "4  gạch loót bị trốc từng mãng kéo dài suốt con đ...  "
      ],
      "text/html": "<div>\n<style scoped>\n    .dataframe tbody tr th:only-of-type {\n        vertical-align: middle;\n    }\n\n    .dataframe tbody tr th {\n        vertical-align: top;\n    }\n\n    .dataframe thead th {\n        text-align: right;\n    }\n</style>\n<table border=\"1\" class=\"dataframe\">\n  <thead>\n    <tr style=\"text-align: right;\">\n      <th></th>\n      <th>target</th>\n      <th>input</th>\n    </tr>\n  </thead>\n  <tbody>\n    <tr>\n      <th>0</th>\n      <td>các ông bố đi quanh phố cổ và mời bà con du kh...</td>\n      <td>các ông bố đi quanh phố cổ và mời bà con du kh...</td>\n    </tr>\n    <tr>\n      <th>1</th>\n      <td>sống như vợ chồng hẳn</td>\n      <td>sống như vợ chồng ở hà nội</td>\n    </tr>\n    <tr>\n      <th>2</th>\n      <td>trở nổi luôn hả dạ có bao giờ gặp ông nào xỉn ...</td>\n      <td>tử nổi luôn hảdạ có bao giờ gặp ông nào xỉn chưa</td>\n    </tr>\n    <tr>\n      <th>3</th>\n      <td>là một người việt sống ở một nước tư bản nơi m...</td>\n      <td>là một người việt sống ở một nước tư bản nơi m...</td>\n    </tr>\n    <tr>\n      <th>4</th>\n      <td>gạch lót bị tróc từng mảng kéo dài suốt con đường</td>\n      <td>gạch loót bị trốc từng mãng kéo dài suốt con đ...</td>\n    </tr>\n  </tbody>\n</table>\n</div>"
     },
     "metadata": {},
     "execution_count": 29
    }
   ],
   "source": [
    "train.head()"
   ]
  },
  {
   "cell_type": "code",
   "execution_count": 3,
   "metadata": {},
   "outputs": [],
   "source": [
    "import pandas as pd"
   ]
  },
  {
   "cell_type": "code",
   "execution_count": 2,
   "metadata": {},
   "outputs": [],
   "source": [
    "val = pd.read_csv('/home3/phungqv/data_generate/data/finetune/val.csv')"
   ]
  },
  {
   "cell_type": "code",
   "execution_count": 3,
   "metadata": {},
   "outputs": [
    {
     "output_type": "execute_result",
     "data": {
      "text/plain": [
       "                                              target  \\\n",
       "0                 cũng sẽ cố gắng tạo thêm điều kiện   \n",
       "1  ờ đồng ý nhưng mà không biết phải nói như thế ...   \n",
       "2    chiều nếu anh sắp xếp thời gian cho em á anh sẽ   \n",
       "3                         em bé ngậm hai viên kẹo và   \n",
       "4  nhưng khi đụng phải mẫu anh và hắn đã có một n...   \n",
       "\n",
       "                                               input  \n",
       "0                 cũng sẽ cố gắng tạo thêm điều kiện  \n",
       "1  ờ đồng ý nhưng mà không biết phải nói như thế ...  \n",
       "2    chiều nếu anh sắp xếp thời gian cho em á anh sẽ  \n",
       "3                        em bé nhẳn hai diêng kẹo và  \n",
       "4  nhưng khi đụ phải máu anh và hàng thủ đã có mộ...  "
      ],
      "text/html": "<div>\n<style scoped>\n    .dataframe tbody tr th:only-of-type {\n        vertical-align: middle;\n    }\n\n    .dataframe tbody tr th {\n        vertical-align: top;\n    }\n\n    .dataframe thead th {\n        text-align: right;\n    }\n</style>\n<table border=\"1\" class=\"dataframe\">\n  <thead>\n    <tr style=\"text-align: right;\">\n      <th></th>\n      <th>target</th>\n      <th>input</th>\n    </tr>\n  </thead>\n  <tbody>\n    <tr>\n      <th>0</th>\n      <td>cũng sẽ cố gắng tạo thêm điều kiện</td>\n      <td>cũng sẽ cố gắng tạo thêm điều kiện</td>\n    </tr>\n    <tr>\n      <th>1</th>\n      <td>ờ đồng ý nhưng mà không biết phải nói như thế ...</td>\n      <td>ờ đồng ý nhưng mà không biết phải nói như thế ...</td>\n    </tr>\n    <tr>\n      <th>2</th>\n      <td>chiều nếu anh sắp xếp thời gian cho em á anh sẽ</td>\n      <td>chiều nếu anh sắp xếp thời gian cho em á anh sẽ</td>\n    </tr>\n    <tr>\n      <th>3</th>\n      <td>em bé ngậm hai viên kẹo và</td>\n      <td>em bé nhẳn hai diêng kẹo và</td>\n    </tr>\n    <tr>\n      <th>4</th>\n      <td>nhưng khi đụng phải mẫu anh và hắn đã có một n...</td>\n      <td>nhưng khi đụ phải máu anh và hàng thủ đã có mộ...</td>\n    </tr>\n  </tbody>\n</table>\n</div>"
     },
     "metadata": {},
     "execution_count": 3
    }
   ],
   "source": [
    "val.head()"
   ]
  },
  {
   "cell_type": "code",
   "execution_count": 1,
   "metadata": {},
   "outputs": [],
   "source": [
    "from jiwer import wer\n",
    "\n",
    "ground_truth = \"một hai ba\"\n",
    "hypothesis = \"một hai ba\"\n",
    "\n",
    "error = wer(ground_truth, hypothesis)\n"
   ]
  },
  {
   "cell_type": "code",
   "execution_count": 4,
   "metadata": {},
   "outputs": [],
   "source": [
    "test = pd.read_csv('/home3/phungqv/data_generate/data/finetune/test.csv')"
   ]
  },
  {
   "cell_type": "code",
   "execution_count": 16,
   "metadata": {},
   "outputs": [
    {
     "output_type": "execute_result",
     "data": {
      "text/plain": [
       "                                              target  \\\n",
       "0             con nhớ ra có công việc phải làm ở nhà   \n",
       "1  hiện nay dạ mà à bộ đã đề ra từ năm hai ngàn k...   \n",
       "2  sắp đặt rất là hay là mỗi người đều có một vẻ ...   \n",
       "3  em tặng anh là cái áo màu đỏ anh có bị mất trí...   \n",
       "4  quá trình này còn làm ảnh hưởng trực tiếp tới ...   \n",
       "\n",
       "                                               input  \n",
       "0              cô nhớ ra có công việc phải làm ở nhà  \n",
       "1  hiện nay dạ mà à bộ đã để ra từ năm hai ngàn k...  \n",
       "2  sắp đặt rất là hay là mỗi người đều có một vẻ ...  \n",
       "3  em tặng anh là cáo màu đỏanh đâu có bị mất trí...  \n",
       "4  quá trình này còn làm ảnh hưởng trực tiếp tới ...  "
      ],
      "text/html": "<div>\n<style scoped>\n    .dataframe tbody tr th:only-of-type {\n        vertical-align: middle;\n    }\n\n    .dataframe tbody tr th {\n        vertical-align: top;\n    }\n\n    .dataframe thead th {\n        text-align: right;\n    }\n</style>\n<table border=\"1\" class=\"dataframe\">\n  <thead>\n    <tr style=\"text-align: right;\">\n      <th></th>\n      <th>target</th>\n      <th>input</th>\n    </tr>\n  </thead>\n  <tbody>\n    <tr>\n      <th>0</th>\n      <td>con nhớ ra có công việc phải làm ở nhà</td>\n      <td>cô nhớ ra có công việc phải làm ở nhà</td>\n    </tr>\n    <tr>\n      <th>1</th>\n      <td>hiện nay dạ mà à bộ đã đề ra từ năm hai ngàn k...</td>\n      <td>hiện nay dạ mà à bộ đã để ra từ năm hai ngàn k...</td>\n    </tr>\n    <tr>\n      <th>2</th>\n      <td>sắp đặt rất là hay là mỗi người đều có một vẻ ...</td>\n      <td>sắp đặt rất là hay là mỗi người đều có một vẻ ...</td>\n    </tr>\n    <tr>\n      <th>3</th>\n      <td>em tặng anh là cái áo màu đỏ anh có bị mất trí...</td>\n      <td>em tặng anh là cáo màu đỏanh đâu có bị mất trí...</td>\n    </tr>\n    <tr>\n      <th>4</th>\n      <td>quá trình này còn làm ảnh hưởng trực tiếp tới ...</td>\n      <td>quá trình này còn làm ảnh hưởng trực tiếp tới ...</td>\n    </tr>\n  </tbody>\n</table>\n</div>"
     },
     "metadata": {},
     "execution_count": 16
    }
   ],
   "source": [
    "test.head()"
   ]
  },
  {
   "cell_type": "code",
   "execution_count": 17,
   "metadata": {},
   "outputs": [
    {
     "output_type": "execute_result",
     "data": {
      "text/plain": [
       "4952"
      ]
     },
     "metadata": {},
     "execution_count": 17
    }
   ],
   "source": [
    "len(test)"
   ]
  },
  {
   "cell_type": "code",
   "execution_count": 18,
   "metadata": {},
   "outputs": [],
   "source": [
    "model_wer = []\n",
    "for i, row in test.iterrows():\n",
    "    model_wer.append(wer(row.target, row.input))"
   ]
  },
  {
   "cell_type": "code",
   "execution_count": 19,
   "metadata": {},
   "outputs": [
    {
     "output_type": "execute_result",
     "data": {
      "text/plain": [
       "4952"
      ]
     },
     "metadata": {},
     "execution_count": 19
    }
   ],
   "source": [
    "len(model_wer)"
   ]
  },
  {
   "cell_type": "code",
   "execution_count": 20,
   "metadata": {},
   "outputs": [],
   "source": [
    "test['model_wer'] = model_wer"
   ]
  },
  {
   "cell_type": "code",
   "execution_count": 21,
   "metadata": {},
   "outputs": [
    {
     "output_type": "execute_result",
     "data": {
      "text/plain": [
       "                                              target  \\\n",
       "0             con nhớ ra có công việc phải làm ở nhà   \n",
       "1  hiện nay dạ mà à bộ đã đề ra từ năm hai ngàn k...   \n",
       "2  sắp đặt rất là hay là mỗi người đều có một vẻ ...   \n",
       "3  em tặng anh là cái áo màu đỏ anh có bị mất trí...   \n",
       "4  quá trình này còn làm ảnh hưởng trực tiếp tới ...   \n",
       "\n",
       "                                               input  model_wer  \n",
       "0              cô nhớ ra có công việc phải làm ở nhà   0.100000  \n",
       "1  hiện nay dạ mà à bộ đã để ra từ năm hai ngàn k...   0.047619  \n",
       "2  sắp đặt rất là hay là mỗi người đều có một vẻ ...   0.000000  \n",
       "3  em tặng anh là cáo màu đỏanh đâu có bị mất trí...   0.333333  \n",
       "4  quá trình này còn làm ảnh hưởng trực tiếp tới ...   0.000000  "
      ],
      "text/html": "<div>\n<style scoped>\n    .dataframe tbody tr th:only-of-type {\n        vertical-align: middle;\n    }\n\n    .dataframe tbody tr th {\n        vertical-align: top;\n    }\n\n    .dataframe thead th {\n        text-align: right;\n    }\n</style>\n<table border=\"1\" class=\"dataframe\">\n  <thead>\n    <tr style=\"text-align: right;\">\n      <th></th>\n      <th>target</th>\n      <th>input</th>\n      <th>model_wer</th>\n    </tr>\n  </thead>\n  <tbody>\n    <tr>\n      <th>0</th>\n      <td>con nhớ ra có công việc phải làm ở nhà</td>\n      <td>cô nhớ ra có công việc phải làm ở nhà</td>\n      <td>0.100000</td>\n    </tr>\n    <tr>\n      <th>1</th>\n      <td>hiện nay dạ mà à bộ đã đề ra từ năm hai ngàn k...</td>\n      <td>hiện nay dạ mà à bộ đã để ra từ năm hai ngàn k...</td>\n      <td>0.047619</td>\n    </tr>\n    <tr>\n      <th>2</th>\n      <td>sắp đặt rất là hay là mỗi người đều có một vẻ ...</td>\n      <td>sắp đặt rất là hay là mỗi người đều có một vẻ ...</td>\n      <td>0.000000</td>\n    </tr>\n    <tr>\n      <th>3</th>\n      <td>em tặng anh là cái áo màu đỏ anh có bị mất trí...</td>\n      <td>em tặng anh là cáo màu đỏanh đâu có bị mất trí...</td>\n      <td>0.333333</td>\n    </tr>\n    <tr>\n      <th>4</th>\n      <td>quá trình này còn làm ảnh hưởng trực tiếp tới ...</td>\n      <td>quá trình này còn làm ảnh hưởng trực tiếp tới ...</td>\n      <td>0.000000</td>\n    </tr>\n  </tbody>\n</table>\n</div>"
     },
     "metadata": {},
     "execution_count": 21
    }
   ],
   "source": [
    "test.head()"
   ]
  },
  {
   "cell_type": "code",
   "execution_count": 24,
   "metadata": {},
   "outputs": [
    {
     "output_type": "execute_result",
     "data": {
      "text/plain": [
       "10.491930527618326"
      ]
     },
     "metadata": {},
     "execution_count": 24
    }
   ],
   "source": [
    "sum(test.model_wer)/len(test.model_wer) * 100"
   ]
  },
  {
   "cell_type": "code",
   "execution_count": 25,
   "metadata": {},
   "outputs": [
    {
     "output_type": "stream",
     "name": "stderr",
     "text": [
      "Special tokens have been added in the vocabulary, make sure the associated word embeddings are fine-tuned or trained.\n"
     ]
    }
   ],
   "source": [
    "from transformers import AutoTokenizer, AutoModelForSeq2SeqLM\n",
    "pretrained = AutoModelForSeq2SeqLM.from_pretrained('/home3/phungqv/data_generate/text-normalization/checkpoint-84561')\n",
    "tokenizer = AutoTokenizer.from_pretrained(\"vinai/phobert-base\")\n"
   ]
  },
  {
   "cell_type": "code",
   "execution_count": 27,
   "metadata": {},
   "outputs": [],
   "source": [
    "import time\n",
    "device = \"cuda:0\"\n",
    "pretrained = pretrained.to(device)\n"
   ]
  },
  {
   "cell_type": "code",
   "execution_count": 41,
   "metadata": {},
   "outputs": [],
   "source": [
    "import tqdm"
   ]
  },
  {
   "cell_type": "code",
   "execution_count": 40,
   "metadata": {},
   "outputs": [],
   "source": [
    "norm_sentence = []\n",
    "norm_wer = []\n",
    "norm_time = []\n",
    "for i, row in test.iterrows():\n",
    "    start_time = time.time()\n",
    "    inputs = tokenizer.encode(row.input, return_tensors='pt')\n",
    "    inputs = inputs.to(device)\n",
    "    outputs = pretrained.generate(inputs, max_length=128, num_beams=6, early_stopping=True)\n",
    "    outputs = outputs.tolist()\n",
    "    sentence = tokenizer.batch_decode(outputs, skip_special_tokens=True)[0].strip()\n",
    "    norm_time.append(time.time() - start_time)\n",
    "    norm_sentence.append(sentence)\n",
    "    norm_wer.append(wer(row.target, sentence))\n"
   ]
  },
  {
   "cell_type": "code",
   "execution_count": 44,
   "metadata": {},
   "outputs": [],
   "source": [
    "test['norm_sentence'] = norm_sentence"
   ]
  },
  {
   "cell_type": "code",
   "execution_count": 46,
   "metadata": {},
   "outputs": [],
   "source": [
    "test['norm_wer'] = norm_wer"
   ]
  },
  {
   "cell_type": "code",
   "execution_count": 47,
   "metadata": {},
   "outputs": [
    {
     "output_type": "execute_result",
     "data": {
      "text/plain": [
       "                                              target  \\\n",
       "0             con nhớ ra có công việc phải làm ở nhà   \n",
       "1  hiện nay dạ mà à bộ đã đề ra từ năm hai ngàn k...   \n",
       "2  sắp đặt rất là hay là mỗi người đều có một vẻ ...   \n",
       "3  em tặng anh là cái áo màu đỏ anh có bị mất trí...   \n",
       "4  quá trình này còn làm ảnh hưởng trực tiếp tới ...   \n",
       "\n",
       "                                               input  model_wer  \\\n",
       "0              cô nhớ ra có công việc phải làm ở nhà   0.100000   \n",
       "1  hiện nay dạ mà à bộ đã để ra từ năm hai ngàn k...   0.047619   \n",
       "2  sắp đặt rất là hay là mỗi người đều có một vẻ ...   0.000000   \n",
       "3  em tặng anh là cáo màu đỏanh đâu có bị mất trí...   0.333333   \n",
       "4  quá trình này còn làm ảnh hưởng trực tiếp tới ...   0.000000   \n",
       "\n",
       "                                       norm_sentence  norm_wer  \n",
       "0              cô nhớ ra có công việc phải làm ở nhà  0.100000  \n",
       "1  hiện nay dạ mà à bộ đã để ra từ năm 2 ngàn 201...  0.238095  \n",
       "2  sắp đặt rất là hay là mỗi người đều có một vẻ ...  0.000000  \n",
       "3  em tặng anh là cáo màu đón anh đâu có bị mất t...  0.333333  \n",
       "4  quá trình này còn làm ảnh hưởng trực tiếp tới ...  0.000000  "
      ],
      "text/html": "<div>\n<style scoped>\n    .dataframe tbody tr th:only-of-type {\n        vertical-align: middle;\n    }\n\n    .dataframe tbody tr th {\n        vertical-align: top;\n    }\n\n    .dataframe thead th {\n        text-align: right;\n    }\n</style>\n<table border=\"1\" class=\"dataframe\">\n  <thead>\n    <tr style=\"text-align: right;\">\n      <th></th>\n      <th>target</th>\n      <th>input</th>\n      <th>model_wer</th>\n      <th>norm_sentence</th>\n      <th>norm_wer</th>\n    </tr>\n  </thead>\n  <tbody>\n    <tr>\n      <th>0</th>\n      <td>con nhớ ra có công việc phải làm ở nhà</td>\n      <td>cô nhớ ra có công việc phải làm ở nhà</td>\n      <td>0.100000</td>\n      <td>cô nhớ ra có công việc phải làm ở nhà</td>\n      <td>0.100000</td>\n    </tr>\n    <tr>\n      <th>1</th>\n      <td>hiện nay dạ mà à bộ đã đề ra từ năm hai ngàn k...</td>\n      <td>hiện nay dạ mà à bộ đã để ra từ năm hai ngàn k...</td>\n      <td>0.047619</td>\n      <td>hiện nay dạ mà à bộ đã để ra từ năm 2 ngàn 201...</td>\n      <td>0.238095</td>\n    </tr>\n    <tr>\n      <th>2</th>\n      <td>sắp đặt rất là hay là mỗi người đều có một vẻ ...</td>\n      <td>sắp đặt rất là hay là mỗi người đều có một vẻ ...</td>\n      <td>0.000000</td>\n      <td>sắp đặt rất là hay là mỗi người đều có một vẻ ...</td>\n      <td>0.000000</td>\n    </tr>\n    <tr>\n      <th>3</th>\n      <td>em tặng anh là cái áo màu đỏ anh có bị mất trí...</td>\n      <td>em tặng anh là cáo màu đỏanh đâu có bị mất trí...</td>\n      <td>0.333333</td>\n      <td>em tặng anh là cáo màu đón anh đâu có bị mất t...</td>\n      <td>0.333333</td>\n    </tr>\n    <tr>\n      <th>4</th>\n      <td>quá trình này còn làm ảnh hưởng trực tiếp tới ...</td>\n      <td>quá trình này còn làm ảnh hưởng trực tiếp tới ...</td>\n      <td>0.000000</td>\n      <td>quá trình này còn làm ảnh hưởng trực tiếp tới ...</td>\n      <td>0.000000</td>\n    </tr>\n  </tbody>\n</table>\n</div>"
     },
     "metadata": {},
     "execution_count": 47
    }
   ],
   "source": [
    "test.head()"
   ]
  },
  {
   "cell_type": "code",
   "execution_count": 50,
   "metadata": {},
   "outputs": [],
   "source": [
    "test['norm_time'] = norm_time"
   ]
  },
  {
   "cell_type": "code",
   "execution_count": 54,
   "metadata": {},
   "outputs": [
    {
     "output_type": "execute_result",
     "data": {
      "text/plain": [
       "0.12478387269263236"
      ]
     },
     "metadata": {},
     "execution_count": 54
    }
   ],
   "source": [
    "sum(test.norm_wer) / len(test.norm_wer)"
   ]
  },
  {
   "cell_type": "code",
   "execution_count": 56,
   "metadata": {},
   "outputs": [
    {
     "output_type": "error",
     "ename": "IsADirectoryError",
     "evalue": "[Errno 21] Is a directory: '/home3/phungqv/data_generate/wer/'",
     "traceback": [
      "\u001b[0;31m---------------------------------------------------------------------------\u001b[0m",
      "\u001b[0;31mIsADirectoryError\u001b[0m                         Traceback (most recent call last)",
      "\u001b[0;32m<ipython-input-56-bc7ab7657804>\u001b[0m in \u001b[0;36m<module>\u001b[0;34m\u001b[0m\n\u001b[0;32m----> 1\u001b[0;31m \u001b[0mtest\u001b[0m\u001b[0;34m.\u001b[0m\u001b[0mto_csv\u001b[0m\u001b[0;34m(\u001b[0m\u001b[0;34m'/home3/phungqv/data_generate/wer/'\u001b[0m\u001b[0;34m,\u001b[0m\u001b[0mindex\u001b[0m\u001b[0;34m=\u001b[0m\u001b[0;32mFalse\u001b[0m\u001b[0;34m)\u001b[0m\u001b[0;34m\u001b[0m\u001b[0;34m\u001b[0m\u001b[0m\n\u001b[0m",
      "\u001b[0;32m~/.local/lib/python3.7/site-packages/pandas/core/generic.py\u001b[0m in \u001b[0;36mto_csv\u001b[0;34m(self, path_or_buf, sep, na_rep, float_format, columns, header, index, index_label, mode, encoding, compression, quoting, quotechar, line_terminator, chunksize, date_format, doublequote, escapechar, decimal, errors, storage_options)\u001b[0m\n\u001b[1;32m   3401\u001b[0m             \u001b[0mdoublequote\u001b[0m\u001b[0;34m=\u001b[0m\u001b[0mdoublequote\u001b[0m\u001b[0;34m,\u001b[0m\u001b[0;34m\u001b[0m\u001b[0;34m\u001b[0m\u001b[0m\n\u001b[1;32m   3402\u001b[0m             \u001b[0mescapechar\u001b[0m\u001b[0;34m=\u001b[0m\u001b[0mescapechar\u001b[0m\u001b[0;34m,\u001b[0m\u001b[0;34m\u001b[0m\u001b[0;34m\u001b[0m\u001b[0m\n\u001b[0;32m-> 3403\u001b[0;31m             \u001b[0mstorage_options\u001b[0m\u001b[0;34m=\u001b[0m\u001b[0mstorage_options\u001b[0m\u001b[0;34m,\u001b[0m\u001b[0;34m\u001b[0m\u001b[0;34m\u001b[0m\u001b[0m\n\u001b[0m\u001b[1;32m   3404\u001b[0m         )\n\u001b[1;32m   3405\u001b[0m \u001b[0;34m\u001b[0m\u001b[0m\n",
      "\u001b[0;32m~/.local/lib/python3.7/site-packages/pandas/io/formats/format.py\u001b[0m in \u001b[0;36mto_csv\u001b[0;34m(self, path_or_buf, encoding, sep, columns, index_label, mode, compression, quoting, quotechar, line_terminator, chunksize, date_format, doublequote, escapechar, errors, storage_options)\u001b[0m\n\u001b[1;32m   1081\u001b[0m             \u001b[0mformatter\u001b[0m\u001b[0;34m=\u001b[0m\u001b[0mself\u001b[0m\u001b[0;34m.\u001b[0m\u001b[0mfmt\u001b[0m\u001b[0;34m,\u001b[0m\u001b[0;34m\u001b[0m\u001b[0;34m\u001b[0m\u001b[0m\n\u001b[1;32m   1082\u001b[0m         )\n\u001b[0;32m-> 1083\u001b[0;31m         \u001b[0mcsv_formatter\u001b[0m\u001b[0;34m.\u001b[0m\u001b[0msave\u001b[0m\u001b[0;34m(\u001b[0m\u001b[0;34m)\u001b[0m\u001b[0;34m\u001b[0m\u001b[0;34m\u001b[0m\u001b[0m\n\u001b[0m\u001b[1;32m   1084\u001b[0m \u001b[0;34m\u001b[0m\u001b[0m\n\u001b[1;32m   1085\u001b[0m         \u001b[0;32mif\u001b[0m \u001b[0mcreated_buffer\u001b[0m\u001b[0;34m:\u001b[0m\u001b[0;34m\u001b[0m\u001b[0;34m\u001b[0m\u001b[0m\n",
      "\u001b[0;32m~/.local/lib/python3.7/site-packages/pandas/io/formats/csvs.py\u001b[0m in \u001b[0;36msave\u001b[0;34m(self)\u001b[0m\n\u001b[1;32m    232\u001b[0m             \u001b[0merrors\u001b[0m\u001b[0;34m=\u001b[0m\u001b[0mself\u001b[0m\u001b[0;34m.\u001b[0m\u001b[0merrors\u001b[0m\u001b[0;34m,\u001b[0m\u001b[0;34m\u001b[0m\u001b[0;34m\u001b[0m\u001b[0m\n\u001b[1;32m    233\u001b[0m             \u001b[0mcompression\u001b[0m\u001b[0;34m=\u001b[0m\u001b[0mself\u001b[0m\u001b[0;34m.\u001b[0m\u001b[0mcompression\u001b[0m\u001b[0;34m,\u001b[0m\u001b[0;34m\u001b[0m\u001b[0;34m\u001b[0m\u001b[0m\n\u001b[0;32m--> 234\u001b[0;31m             \u001b[0mstorage_options\u001b[0m\u001b[0;34m=\u001b[0m\u001b[0mself\u001b[0m\u001b[0;34m.\u001b[0m\u001b[0mstorage_options\u001b[0m\u001b[0;34m,\u001b[0m\u001b[0;34m\u001b[0m\u001b[0;34m\u001b[0m\u001b[0m\n\u001b[0m\u001b[1;32m    235\u001b[0m         ) as handles:\n\u001b[1;32m    236\u001b[0m \u001b[0;34m\u001b[0m\u001b[0m\n",
      "\u001b[0;32m~/.local/lib/python3.7/site-packages/pandas/io/common.py\u001b[0m in \u001b[0;36mget_handle\u001b[0;34m(path_or_buf, mode, encoding, compression, memory_map, is_text, errors, storage_options)\u001b[0m\n\u001b[1;32m    645\u001b[0m                 \u001b[0mencoding\u001b[0m\u001b[0;34m=\u001b[0m\u001b[0mioargs\u001b[0m\u001b[0;34m.\u001b[0m\u001b[0mencoding\u001b[0m\u001b[0;34m,\u001b[0m\u001b[0;34m\u001b[0m\u001b[0;34m\u001b[0m\u001b[0m\n\u001b[1;32m    646\u001b[0m                 \u001b[0merrors\u001b[0m\u001b[0;34m=\u001b[0m\u001b[0merrors\u001b[0m\u001b[0;34m,\u001b[0m\u001b[0;34m\u001b[0m\u001b[0;34m\u001b[0m\u001b[0m\n\u001b[0;32m--> 647\u001b[0;31m                 \u001b[0mnewline\u001b[0m\u001b[0;34m=\u001b[0m\u001b[0;34m\"\"\u001b[0m\u001b[0;34m,\u001b[0m\u001b[0;34m\u001b[0m\u001b[0;34m\u001b[0m\u001b[0m\n\u001b[0m\u001b[1;32m    648\u001b[0m             )\n\u001b[1;32m    649\u001b[0m         \u001b[0;32melse\u001b[0m\u001b[0;34m:\u001b[0m\u001b[0;34m\u001b[0m\u001b[0;34m\u001b[0m\u001b[0m\n",
      "\u001b[0;31mIsADirectoryError\u001b[0m: [Errno 21] Is a directory: '/home3/phungqv/data_generate/wer/'"
     ]
    }
   ],
   "source": [
    "test.to_csv('/home3/phungqv/data_generate/wer/wer.csv',index=False)"
   ]
  },
  {
   "cell_type": "code",
   "execution_count": 74,
   "metadata": {},
   "outputs": [
    {
     "output_type": "execute_result",
     "data": {
      "text/plain": [
       "96"
      ]
     },
     "metadata": {},
     "execution_count": 74
    }
   ],
   "source": [
    "better = test[test.model_wer - test.norm_wer > 0.1]\n",
    "len(better)"
   ]
  },
  {
   "cell_type": "code",
   "execution_count": 75,
   "metadata": {},
   "outputs": [
    {
     "output_type": "stream",
     "name": "stdout",
     "text": [
      "ground truth: bảo tao xác nhận nằm ngửa ra nhà bảo tao xác nhận ui giời ôi\nasr ouput:    tà tao sác nhệ ước á nằm ngửa ra nhà mà tao xác nhậ ú rồi i\nnormalized:   tà tao xác nghệ nước á nằm ngửa ra nhà mà tao xác nhận ú rồi i\n\n\nground truth: chỉ cần đưa ra một vài dẫn chứng thôi\nasr ouput:    chỉ cần đưa ra một vài dẫn trứng thôi\nnormalized:   chỉ cần đưa ra một vài dẫn chứng thôi\n\n\nground truth: nó chẳng ảnh hưởng đến vụ tiếp theo\nasr ouput:    nó chẽ ảnh hưởng đến bộ tiếp deo\nnormalized:   nó chẽ ảnh hưởng đến bộ tiếp theo\n\n\nground truth: buôn tiền qua mạng nở rộ\nasr ouput:    bun tiền qua mạng nở rộ\nnormalized:   buôn tiền qua mạng nở rộ\n\n\nground truth: có người ngỏ lời cầu hôn\nasr ouput:    có người ngò lời cầu hôn\nnormalized:   có người ngỏ lời cầu hôn\n\n\nground truth: rất lớn trong cái việc thành công trong lĩnh vực giáo dục nghề nghiệp trong thời gian vừa qua\nasr ouput:    rất lớn trong cái việc thành công trong lĩnh vựcgiáo dục nghiệp trong thời gian vừa qua\nnormalized:   rất lớn trong cái việc thành công trong lĩnh vực giáo dục nghiệp trong thời gian vừa qua\n\n\nground truth: tiêu cụ thể tuy nhiên mục tiêu cụ thể ở đây nó là cái gì các bạn vẫn chưa giải thích được ra mục tiêu cụ thể ở đây\nasr ouput:    mục tiêu cụ thể tuy nhiên mục tiêu cụ thể ở đây nó là cái gì à các bạn  vẫn chưa giảithíchđược ra mục tiêu cụ thể ở đây\nnormalized:   mục tiêu cụ thể tuy nhiên mục tiêu cụ thể ở đây nó là cái gì à các bạn vẫn chưa giải thích được ra mục tiêu cụ thể ở đây\n\n\nground truth: không để tăng giá ăn theo xăng dầu\nasr ouput:    không để tăng giá ăn theo săng dầu\nnormalized:   không để tăng giá ăn theo xăng dầu\n\n\nground truth: với người mẹ ở xóm chài long biên\nasr ouput:    với người mẹ ở sóm chài long biên\nnormalized:   với người mẹ ở xóm chài long biên\n\n\nground truth: tia hy vọng nhỏ nhoi đưa huy và cánh tay robot đi mỹ\nasr ouput:    tia hy vọng nhỏ nhoi đưa huy và cánh tay rô bốt đi mỹ\nnormalized:   tia hy vọng nhỏ nhoi đưa huy và cánh tay robot đi mỹ\n\n\nground truth: đối tác và hàn quốc nhật bản và có sự dịch chuyển\nasr ouput:    đôi tác với hàn quốc nhịch bản và có sự dịch chuyển\nnormalized:   đối tác với hàn quốc nhật bản và có sự dịch chuyển\n\n\nground truth: nhà phê bình văn học nhà nghiên cứu văn hóa nguyễn hòa và\nasr ouput:    nhà phê bình văn học nhà nghiên cứu văn hoá nguyễn hoà và\nnormalized:   nhà phê bình văn học nhà nghiên cứu văn hóa nguyễn hòa và\n\n\nground truth: thể hiện được cái sự cố gắng của mình\nasr ouput:    thể hiện đượcái sự cố gắng của mình\nnormalized:   thể hiện được cái sự cố gắng của mình\n\n\nground truth: cắt tóc ngắn áo sẫm đen cái nữa\nasr ouput:    cắt tóc ngắn áo xẩm đen cn cái nữa\nnormalized:   cắt tóc ngắn áo xẩm đen cái nữa\n\n\nground truth: chẳng ai muốn lôi thôi đồn để hàng hóa vô chủ nằm ì trên quầy\nasr ouput:    chẳng ai muốn lôi thôi ở đồn để hàng hoá vô chù nằm ỳ trên quầy\nnormalized:   chẳng ai muốn lôi thôi ở đồn để hàng hóa vô chủ nằm ý trên quầy\n\n\nground truth: thì đây là cái điều mà chúng ta cần phải\nasr ouput:    thì đây là cái điều mà chúng ta cầnphải\nnormalized:   thì đây là cái điều mà chúng ta cần phải\n\n\nground truth: nhưng mà cái bước tiến nó hơi chậm đây là giai đoạn nước rút rồi\nasr ouput:    nhưng mà cái bước tiếng nó hơi chậm đây là giai đoạn ước ruút rồi\nnormalized:   nhưng mà cái bước tiếng nó hơi chậm đây là giai đoạn nước rút rồi\n\n\nground truth: các con bây giờ á có một nhiệm vụ cho các con nhé\nasr ouput:    các con bây giờ é có một niệm pụ cho các con nhá\nnormalized:   các con bây giờ sẽ có một nhiệm vụ cho các con nhà\n\n\nground truth: vâng thế còn anh vỹ anh đã chọn những nguyên liệu nào đây thì em\nasr ouput:    vâng thế còn anh vĩ anh đã chọn những nguyênliệu nào đây thì em\nnormalized:   vâng thế còn anh vĩ anh đã chọn những nguyên liệu nào đây thì em\n\n\nground truth: một lần nữa xin chúc mừng lý thắm tiền\nasr ouput:    một lần nữa xin chúc mừng vềi tám tiện\nnormalized:   một lần nữa xin chúc mừng vết 8 tiền\n\n\nground truth: đâm chết người sau khi va quệt xe\nasr ouput:    đâm chết người sau khi va khuyệt xe\nnormalized:   đâm chết người sau khi va quệt xe\n\n\nground truth: dắt mình ra gặp bạn trai và mình cũng hóng hóng hóng xem bạn trai mình ở đâu thì\nasr ouput:    giắt mình ragặp bạn trai và mình cũng hóng hóng hóng xin  bạn trai mình ở đâu thì\nnormalized:   dắt mình ra gặp bạn trai và mình cũng hóng hóng xin bạn trai mình ở đâu thì\n\n\nground truth: thế nên ít ai làm trong lĩnh vực văn hóa\nasr ouput:    chế nên ít ai làm trong cái lĩnh vực van hoá\nnormalized:   chế nên ít ai làm trong cái lĩnh vực van hóa\n\n\nground truth: là bị gì lẽ bị chết lẽ bị chết\nasr ouput:     ta bị gậy la l bị chớtvậy la là bị chớt\nnormalized:   ta bị gậy la bị chém vậy là bị richard\n\n\nground truth: ba định dấu con tới chừng nào đây\nasr ouput:    ba định gdấu co tới chừng nào đây\nnormalized:   ba định dấu co tới chừng nào đây\n\n\nground truth: cái trách nhiệm mình rất là lớn dạ\nasr ouput:    cái trách nhiện củ mình rất là lớn dạ\nnormalized:   cái trách nhcủ mình rất là lớn dạ\n\n\nground truth: anh hẹn tôi ra đây có chuyện gì\nasr ouput:    anh hẹng tôi ra đây có chuyện gì\nnormalized:   anh hẹn tôi ra đây có chuyện gì\n\n\nground truth: tới đó là mục đích lâu dài hơn\nasr ouput:    tưởi đó là mục đích lưu dai hơn\nnormalized:   từ đó là mục đích lưu dài hơn\n\n\nground truth: mẹ dặn làm khi con đi cầu\nasr ouput:    mẹ giặn làm khi con đi cầu\nnormalized:   mẹ dặn làm khi con đi cầu\n\n\nground truth: trong lúc giằng co đối tượng đã dùng dao nhọn đâm vào bụng anh vinh hai nhát và vứt dao tại hiện trường rồi bỏ chạy\nasr ouput:    trong lúc rằng co đối tượng đã dùng rao nhọn đâm vào bụng anh vinh hai nhát và vứt rao tại hiện trường rồi bỏ chạy\nnormalized:   trong lúc giằng co đối tượng đã dùng dao nhọn đâm vào bụng anh vinh hai nhát và vứt dao tại hiện trường rồi bỏ chạy\n\n\nground truth: à hai nhà quan sát a đó là giáo sư tiến sĩ nguyễn minh thuyết\nasr ouput:    àhai nhà quan sát là đó là giáo sư  tiến sĩnguyễnminh thuyết\nnormalized:   hai nhà quan sát là đó là giáo sư tiến hành quyết minh thuyết\n\n\nground truth: chúng trói tôi để tôi không có được mấy chữ ấy đi cho đến khi lành vết\nasr ouput:    chúng chói tôi để tôi không cọ được mấy chữ ấy đi cho đến khi lành vết\nnormalized:   chúng trói tôi để tôi không có được mấy chữ ấy đi cho đến khi lành vết\n\n\nground truth: nói chung á thì à sức khỏe trước kia\nasr ouput:    nói chung á thì à sức khoẻ trước kia\nnormalized:   nói chung á thì à sức khỏe trước kia\n\n\nground truth: để làm lan tỏa hơn nữa hình ảnh\nasr ouput:    để làm lan toả hơn nữa hình nh\nnormalized:   để làm lan tỏa hơn nữa hình\n\n\nground truth: con không đóng thì đưa đây cho má đóng\nasr ouput:    con không đóng thì đưa nay cho má đóug\nnormalized:   con không đóng thì đưa nay cho má đóng\n\n\nground truth: thế bây giờ cứ việc quảng cáo sản phẩm trên facebook là con tự làm hay là\nasr ouput:    thế bây giờ cái việc quảng cáo sản phẩm trên phây  búc là con tự làm hay là\nnormalized:   thế bây giờ cái việc quảng cáo sản phẩm trên facebook là con tự làm hay là\n\n\nground truth: tại thành phố huế cô giáo nguyễn thị thúy\nasr ouput:    tại thành phố huế cô giáo nguyễn thị thuý\nnormalized:   tại thành phố huế cô giáo nguyễn thị thúy\n\n\nground truth: thì lên phường gặp nó vậy thôi hả\nasr ouput:    thì lên phường gặp nó cvậy thôi hả\nnormalized:   thì lên phường gặp nó vậy thôi hả\n\n\nground truth: nơi â hiện tại ngoại ô moskva\nasr ouput:    nơi ở hiện tại ngoại ô mát cơ va\nnormalized:   nơi ở hiện tại ngoại ô mat@@\n\n\nground truth: ok cám ơn chị tường ok đợi chị nhé ok chị\nasr ouput:    ô kê cám ơn chị tường tô ô kê đợi chị nha ô kê chị\nnormalized:   ok cám ơn chị tường tô ô kê đợi chị nhà ô kê chị\n\n\nground truth: thật sự là món của em ngày hôm nay\nasr ouput:    thật sự là món của em ngày hômna\nnormalized:   thật sự là món của em ngày hôm nay\n\n\nground truth: về vấn đề biển đông à nếu a chiến lược hơn một chút để vấn đề ngoại giao\nasr ouput:    về vấn đề biến đông nếu chiến lược hơn một chút để vấn đề nhoại dao\nnormalized:   về vấn đề biến đông nếu chiến lược hơn một chút để vấn đề ngoại giao\n\n\nground truth: ăn xong dọn rửa rồi bảo\nasr ouput:    ăn xong giọn rửa rồi bảo\nnormalized:   ăn xong dọn rửa rồi bảo\n\n\nground truth: nhưng vấn đề quan trọng là ở\nasr ouput:    nhưng vấn đề a trọg qtrọg à khiđã đền ùrồ\nnormalized:   nhưng vấn đề trọng trọng và không đã đền rồ\n\n\nground truth: để tháo gỡ những cái khó khăn như anh nói hay không có thể dùng internet có thể dùng điện thoại\nasr ouput:    để tháo gỡ những cái khó khăn như anh nói hay không có thể dùng in tơ nét có thể dùng điện thoại\nnormalized:   để tháo gỡ những cái khó khăn như anh nói hay không có thể dùng internet có thể dùng điện thoại\n\n\nground truth: cùng với chương trình suốt thời gian vừa qua\nasr ouput:    cùngvới chương trình suốt thời gian vừat qua\nnormalized:   cùng với chương trình suốt thời gian vận tra\n\n\nground truth: nó mà va vào với đám quỷ thì\nasr ouput:    nó mà da dào với đám buỷ thì\nnormalized:   nó mà ra vào với đám thủy thì\n\n\nground truth: cái gì vậy bà cốc chủ kim dung\nasr ouput:    cái gì vớy bà cóc chủ ghiêm dung n\nnormalized:   cái gì vướng bà cóc chủ tiệm dung\n\n\nground truth: cái vẻ đặc trưng của đà nẵng\nasr ouput:    cái gì đấ đặc trựu của là nàn\nnormalized:   cái gì đặc trưng của là nạn\n\n\nground truth: thì nếu có giới thiệu doanh nghiệp thì cũng\nasr ouput:    thì nếu có giới thiệu doanh nghiệptrồi cũng\nnormalized:   thì nếu có giới thiệu doanh nghiệp mẫu cũng\n\n\n"
     ]
    }
   ],
   "source": [
    "for i in range(50):\n",
    "    row = better.iloc[i]\n",
    "    print('ground truth: ' + row['target'] )\n",
    "    print('asr ouput:    ' + row['input'])\n",
    "    print('normalized:   ' + row['norm_sentence'])\n",
    "    print('\\n')"
   ]
  },
  {
   "cell_type": "code",
   "execution_count": 76,
   "metadata": {},
   "outputs": [],
   "source": [
    "worse = test[test.model_wer - test.norm_wer < -0.1]"
   ]
  },
  {
   "cell_type": "code",
   "execution_count": 77,
   "metadata": {},
   "outputs": [
    {
     "output_type": "execute_result",
     "data": {
      "text/plain": [
       "423"
      ]
     },
     "metadata": {},
     "execution_count": 77
    }
   ],
   "source": [
    "len(worse)"
   ]
  },
  {
   "cell_type": "code",
   "execution_count": 78,
   "metadata": {},
   "outputs": [
    {
     "output_type": "stream",
     "name": "stdout",
     "text": [
      "ground truth: hiện nay dạ mà à bộ đã đề ra từ năm hai ngàn không trăm mười dạ thưa bác sĩ à\nasr ouput:    hiện nay dạ mà à bộ đã để ra từ năm hai ngàn không trăm mười dạ thưa bác sĩ à\nnormalized:   hiện nay dạ mà à bộ đã để ra từ năm 2 ngàn 2010 dạ thưa bác sĩ à\n\n\nground truth: nhất là cái giọng rao chè như hát\nasr ouput:    nhất là cái giọng rao chẻ như hát\nnormalized:   nhất là cái giọng dao trẻ như h\n\n\nground truth: hơi xanh bủng do bị ướm nắng\nasr ouput:    hơi xanh bủng do bị ướm nắng\nnormalized:   hơi xanh chủng do bị gươm nắng\n\n\nground truth: ờ vậy là ba mẹ nhưng mà ba mẹ em có kiểm soát không ba mẹ chỉ tịch thu điện thoại thôi chứ\nasr ouput:    ờ vậy là ba mẹ nhưng mà ba mẹ kông có kiểm soát không ba mẹ chỉ tịch thuơng điện thoại thôi chưa\nnormalized:   ở vậy là 3 mẹ nhưng mà 3 mẹ không có kiểm soát không 3 mẹ chỉ tịch tổng điện thoại thôi chưa\n\n\nground truth: chính nghiệp khóa mười ba đã tiến hành phiên họp toàn thể lần thứ tư\nasr ouput:    chính hiệp khoá mười ba đã tiến hành phiên học toàn thể lần thứ tư\nnormalized:   chính hiệp khóa 13 đã tiến hành phiên học toàn thể lần thứ 4\n\n\nground truth: đứa trẻ kháu khỉnh chính là con giun béo ngậy trên đầu chiếc cần câu\nasr ouput:    đứa trẻ kháo khỉnh chính là con run béo ngậy trên đầu chiếc cần câu\nnormalized:   đứa trẻ kháo tỉnh chính là con run béo cây trên đầu chiếc cần câu\n\n\nground truth: xoá bỏ độc quyền và đặc quyền sản xuất kinh doanh của doanh nghiệp nhà nước\nasr ouput:    xoá bỏ độc quyền và đặc quyền sản xuất kinh doanh của doanh nghiệp nhà nước\nnormalized:   xóa bỏ độc quyền và đặc quyền sản xuất kinh doanh của dn nhà nước\n\n\nground truth: gần năm sau\nasr ouput:    gần năm sau\nnormalized:   gần 5 sau\n\n\nground truth: sau này thì muốn đi hát chuyên nghiệp\nasr ouput:    sau này thì muốn đi hát chuyên nghiệp\nnormalized:   sau này thì muốn đi h chuyên nghiệp\n\n\nground truth: xây bể bơi hai ba tỷ\nasr ouput:    xây vuề vơi hai ba tỷ\nnormalized:   xây vuề với 2 3 tỷ\n\n\nground truth: bởi vì năm hai nghìn không trăm mười bảy\nasr ouput:    bởi vì năm hai nghìn không trăm mười bảy\nnormalized:   bởi vì năm 2010 bảy\n\n\nground truth: những bàn chân lẫm chẫm sóng táp ướt cả đũng quần\nasr ouput:    những bản chân lẫm chẫm ióng tát ướt cả nũng quần\nnormalized:   những bản chân lâm chóng tát ướt cả tùng quần\n\n\nground truth: căn cứ vào cái cái cái cái hướng mặt trời đây này để tí nữa là nếu mà\nasr ouput:    căn cứ vào cái cái cái cái hướng mặt trời đây ồ cểi tí nữa là nếu mà\nnormalized:   căn cứ vào cái cái cái hướng mặt trời đây ồ airtí nữa là nếu mà\n\n\nground truth: ngồi lán một chặp\nasr ouput:    ngồi nán một chọp\nnormalized:   ngồi nạn một nhà pháp\n\n\nground truth: từ năm linh tám rồi chỉ cần xin sống hai năm nữa thôi\nasr ouput:    th nam ninh tám tôi chỉ cần xin sống hai năm nữa thôi\nnormalized:   nam ninh 8 tôi chỉ cần xin sống 2 năm nữa thôi\n\n\nground truth: mới ngày nào tôi còn ôm chúng trong vòng tay ngắm nghía thơm tho chúng cả ngày không biết chán\nasr ouput:    mấy ngày nào tôi còn ôm chúng trong vòng xay nắm nghía thơm tho chúng cạng ngày không biết trái\nnormalized:   mấy ngày nào tôi còn ôm chúng trong vòng xay nắm nghĩa thơm theo chúng cũng không biết trái\n\n\nground truth: còn bà mệt quá lả đi\nasr ouput:    còn bà mệt quá lả đi\nnormalized:   còn bà mệt quá là đi\n\n\nground truth: mặt gương đã ố lấm tấm\nasr ouput:    mặt gương đã ố lấm tấm\nnormalized:   mặt gương đã ô lấm tấm\n\n\nground truth: là rất khó sáu mươi sáu phần trăm doanh nghiệp thành công trong việc tìm đất\nasr ouput:    là rất khó sáu mươi sáu phần trăm doanh nghiệp thành công trong việc tìn đất\nnormalized:   là rất khó 66 doanh nghiệp thành công trong việc tin đất\n\n\nground truth: việt kiều ốt xờ trây li a hăm hở chờ bóng đá\nasr ouput:    việt kiều ốt trây li a hăm hở chờ bóng đá\nnormalized:   việt kiều australia hăm hở chờ bóng đá\n\n\nground truth: từ năm hai nghìn không mười hai vầng ngày xưa tôi nhớ là tóc tai chưa cầu kỳ như bây giờ này\nasr ouput:    từ năm hai nghìn không trăm mười hai vâng ngày xưa tôi nhớ là tóc tai chưa cầu kỳ như bây giờ này\nnormalized:   từ năm 2012 vâng ngày xưa tôi nhớ là tóc tai chưa cầu kỳ như bây giờ này\n\n\nground truth: ngoài ra người việt nam của mình trung bình dành hai đến ba tiếng đồng hồ mỗi ngày cho các mạng xã hội\nasr ouput:    ngoài ra người việt nam của mình trung bình dành hai đến ba tiếng đồm hồ mỗi ngày cho các mạng xã hội\nnormalized:   ngoài ra người việt nam của mình trung bình dành 2 3 tiếng đặc hồ mỗi ngày cho các mạng xã hội\n\n\nground truth: sau đó ủy ban nhân dân thị trấn đất đỏ vận động người dân xây cho cụ căn nhà tình thương\nasr ouput:    sau đó uỷ ban nhân dân thị trấn đất đỏ vận động người dân xây cho cụ căn nhà tình thương\nnormalized:   sau đó ubnd thị trấn đất đỏ vận động người dân xây cho cụ căn nhà tình thương\n\n\nground truth: truyện của điệp\nasr ouput:    truyện cồn điệp\nnormalized:   chuyện cồn điệp\n\n\nground truth: ba thiệt hả ba\nasr ouput:    ba thiệt hả ba\nnormalized:   ba thiệt hả 3\n\n\nground truth: nguyễn kim oanh hỗ trợ hai trăm nghìn đồng\nasr ouput:    nguyễn kim oanh hỗ trợ hai trăm nghìn đồng\nnormalized:   nguyễn kim oanh hỗ trợ 200 000 đồng\n\n\nground truth: kìa phong con đừng nói như thế\nasr ouput:    kìaợp phong con đừng nói như thế\nnormalized:   kịp hợp phong con đừng nói như thế\n\n\nground truth: bà tư thở dài đánh sượt\nasr ouput:    bà tư thở dài đánh sượt\nnormalized:   bà tư thở dài đánh trượt\n\n\nground truth: ví dụ như một người bốn mươi tuổi vẫn chưa lấy chồng\nasr ouput:    dừng như một người bốn mươi tuổi vẫn chưa lấy chồng\nnormalized:   dừng như một người 40 tuổi vẫn chưa lấy chồng\n\n\nground truth: và nhiều khi nó cũng làm tôi hơi nhột nhột\nasr ouput:    và nhiều khi nó ông làm tơi hơi nhuột nhột\nnormalized:   và nhiều khi nó ông làm tơi hơi nhuột\n\n\nground truth: và lợi thế có vẻ đang nghiêng về cờ roát ti a\nasr ouput:    và lợi thế có vẻ đang nghiêng về c rát ti a\nnormalized:   và lợi thế có vẻ đang nghiêng về kratania\n\n\nground truth: nó ổn nhưng mà đi bị a lệch\nasr ouput:    nó ổn nhưng mà đi bị a lệt\nnormalized:   nó ổn nhưng mà đi bị giết\n\n\nground truth: dín lả dần lả dần\nasr ouput:    dín là dần là dần\nnormalized:   ín là dần là dần\n\n\nground truth: nghị định ba mươi chín xê pê của chính phủ về an toàn giao thông\nasr ouput:    nghị định ba mươi chín xê pê của chính phủ về an toàn giao thông\nnormalized:   nghị định 39 cp của chính phủ về an toàn giao thông\n\n\nground truth: tôi không tin hổ lại sợ hơ thuyền\nasr ouput:    tôi không tin hồ lại sợ hơ thuyền\nnormalized:   tôi không tin hồ lại sợ herthuyền\n\n\nground truth: ờ thôi được rồi để tao sửa soạn ha\nasr ouput:    ờ thôi được rồi để tao sẽ sạn ha không\nnormalized:   ở thôi được rồi để tao sẽ sạn ra không\n\n\nground truth: chọn cái người hát không giống là số hai em nói anh hưng đứng số ba em chọn người số năm\nasr ouput:    chọn cái người hát không giống là số hai em nói anh hương đứng số ba em chọn người số năm\nnormalized:   chọn cái người hát không giống là số 2 em nói anh hương đứng số 3 em chọn người số 5\n\n\nground truth: a năm mươi chín hùng dương thì hiện tại thì chỗ hợp tác xã này họ cũng có nghĩ ra thêm một cái nữa là\nasr ouput:    à năm mươi chín hồng dương thì hiện tại thì chỗ hợp tác xã này họ cũng có nghĩ ra thêm một cái nữa là\nnormalized:   ah 59 hồng dương thì hiện tại thì chỗ hợp tác xã này họ cũng có nghĩ ra thêm một cái nữa là\n\n\nground truth: ba cô cho con hỏi là ba cô có chấp nhận một người con gái đã từng có\nasr ouput:    ba cô cho con hỏi là ba cô có chấp nhận một người con gái đã từng có\nnormalized:   bà cô cho con hỏi là bà cô có chấp nhận một người con gái đã từng có\n\n\nground truth: sau những phần thi trình diễn bi ki ni với sự sáng tạo đủ mọi phong cách của các bạn\nasr ouput:    sau những phần thi trình diễn bi ki ni với sự sáng tạo đổi mọi phong cách của các bạn\nnormalized:   sau những phần thi trình diễn bikini với sự sáng tạo đổi mọi phong cách của các bạn\n\n\nground truth: cậu định nghỉ ngày mấy tới ngày mấy dạ ừ em định nghỉ từ à mùng một đến mùng mười hai\nasr ouput:    tào đinh nghĩ ngày mấy tới ngày mấy dạ em định nghĩ từ à mùng một đến mùng mười hai\nnormalized:   tào đinh nghĩ ngày mấy tới ngày mấy dạ em định nghĩ từ à 1 12\n\n\nground truth: tôi tròn mắt ngạc nhiên nhìn nàng\nasr ouput:    tôi tròn mắt ngạc nhiên nhìn nàng\nnormalized:   tôi tròn mắt ngạc nhiên nhìn làng\n\n\nground truth: các chị em phụ nữ có thể sử dụng a xít pho lít à không phẩy bốn mi li gam một ngày\nasr ouput:    à cáccá chị em phụ nữ có thể sử dụng a xít phô lít à không phẩy bốn mi li ca một ngày\nnormalized:   à mẫu cá chị em phụ nữ có thể sử dụng axit phô lít và 0 44 minica 1 ngày\n\n\nground truth: cậu không muốn lại phải bước vào cuộc đời của người thợ nhọc nhằn với mức lương thấp nhất\nasr ouput:    cậu không mố ại phải bướ vào cuộc đờicủa ngườ thợ nhọvớmclươ tphấtcậu không u lại phải bước vào cuộc đi của ngườ thợ họcớimưrấttp\nnormalized:   cậu cô gái phải bước vàng vào cuộc đường của người thợ gọn mclưu tp cậu không dừng lại phải bước vào cuộc đi của người thợ họa tướng kim dung\n\n\nground truth: chuyện rõ ràng con không thể để ba\nasr ouput:    chuyện rõ ràng con không thể để ba\nnormalized:   chuyện rõ ràng con không thể để 3\n\n\nground truth: vậy mà chỉ mang có hai mươi nghìn đồng vợ đưa để mua vở cho con hắn cũng để bọn gian lừa mất\nasr ouput:    vậy mà chỉ mang có hai mươi nghìn đồng vợ đưa để đi mua vợ cho con hắn cũng để bọn gian lửa mất\nnormalized:   vậy mà chỉ mang có 20 000 đồng vợ đưa để đi mua vợ cho con hắn cũng để bọn gian lửa mất\n\n\nground truth: cả bê la thời gian đã trôi qua từ từ lúc bước chân vào đại học đến bây giờ đã hơn mười năm rồi\nasr ouput:    tạp bê la thời gian nó trơi qua từ từ lúc bước chân vào đại học đến bây giờ lại hơn mười năm rồi\nnormalized:   tạp belarus thời gian nó chơi qua từ lúc bước chân vào đại học đến bây giờ lại hơn 10 năm rồi\n\n\nground truth: cụ thể là sau chiến thắng buôn mê thuột ngày mùng mười tháng ba năm một nghìn chín trăm bảy nhăm bộ chính trị việt nam đã quyết định phải giải phóng sài gòn trước mùa mưa\nasr ouput:    cụ thể là sau chiến thắng vuôn mê thuật ngày mùng mười tháng ba năm nghìn chín trăm bảy năm bộ chính trị việt nam đã quyết định phải giải phóng sài gòn trước mùa mưa\nnormalized:   cụ thể là sau chiến thắng buôn mê thuật ngày 10 3 500 bảy năm bộ chính trị việt nam đã quyết định phải giải phóng sài gòn trước mùa mưa\n\n\nground truth: ai tra gạn bà không nói\nasr ouput:    ai cha gạn bà không nói\nnormalized:   iccha bạn bà không nói\n\n\nground truth: chiếc bật lửa hết ga phụt tắt\nasr ouput:    chiếc bật lửa hết ga phụt tắt\nnormalized:   chiếc bật lửa hết gas phụt tắt\n\n\n"
     ]
    }
   ],
   "source": [
    "for i in range(50):\n",
    "    row = worse.iloc[i]\n",
    "    print('ground truth: ' + row['target'] )\n",
    "    print('asr ouput:    ' + row['input'])\n",
    "    print('normalized:   ' + row['norm_sentence'])\n",
    "    print('\\n')"
   ]
  },
  {
   "cell_type": "code",
   "execution_count": null,
   "metadata": {},
   "outputs": [],
   "source": []
  }
 ]
}